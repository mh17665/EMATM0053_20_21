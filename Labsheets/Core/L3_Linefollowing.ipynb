{
 "cells": [
  {
   "cell_type": "markdown",
   "metadata": {
    "button": false,
    "run_control": {
     "read_only": false
    }
   },
   "source": [
    "# Lab 3: Line Following"
   ]
  },
  {
   "cell_type": "markdown",
   "metadata": {
    "button": false,
    "run_control": {
     "read_only": false
    }
   },
   "source": [
    "In previous lab sessions, you have:\n",
    "- Seen the standard Arduino sketch, which has the structure of setup() and loop() routines.\n",
    "- Experimented with Arduino Example sketches\n",
    "- Uploaded sketches to your Romi robot.\n",
    "- Experimented with Serial commands to view debug output from your code.\n",
    "- Controlled the power of the two Romi motors with analogWrite()\n",
    "\n",
    "\n",
    "\n",
    "\n",
    "This labsheet will enable your Romi to follow a line on the floor.  The methods presented in this labsheet are basic, and more advanced techniques are discussed in later labsheets.  You may find that the methods of this labsheet are enough to secure up to 70% performance on the line following challenge.\n",
    "\n",
    "In this lab, we will introduce the QTR-3A Reflectance Sensor Array and use it to develop a basic system which can follow lines.  More information on this sensor is available <a href=\"https://www.pololu.com/product/4243\">here</a>.  This labsheet also introduces the concept of a `class` when writing code.  After this labsheet, you may wish to go back and implement a class for your motor control.  \n",
    "    \n",
    "Each sensor array consists of three pairs of an Infra-red LED and Phototransistor, a single pair shown in the circuit on the right:"
   ]
  },
  {
   "cell_type": "markdown",
   "metadata": {
    "button": false,
    "run_control": {
     "read_only": false
    }
   },
   "source": [
    "<table><tr>\n",
    "<td><img src=\"https://a.pololu-files.com/picture/0J9303.1200.jpg?ef05b47c0d9a602458f464a7782348f3\"/></td>\n",
    "<td><img src=\"https://a.pololu-files.com/picture/0J8950.1200.png?d7c8996705fe7a021a292596ce045770\"/> </td>\n",
    "    </tr>\n",
    "    </table>"
   ]
  },
  {
   "cell_type": "markdown",
   "metadata": {
    "button": false,
    "run_control": {
     "read_only": false
    }
   },
   "source": [
    "When the sensor is above a reflective surface (e.g. white piece of paper for example), the light from the IR LED will be reflected strongly, turning on the photo-transistor and pulling the output voltage towards ground. If, on the other hand, the sensor is above a low-reflective surface (black tape for example), the photo-transistor will mostly be turned off, and the output voltage will be pulled towards $V_{in}$(5V in our case). \n",
    "\n",
    "We can measure the voltage at the output by connecting the output signal to one of the Analog pins on the Romi control board. For more information about the QTR-3A, you can check [here](https://www.pololu.com/product/4443) or [here](https://www.pololu.com/docs/pdf/0J13/QTR_application_note.pdf). The difference in voltage between light and dark surfaces will depend on how far the sensor is from the surface.\n"
   ]
  },
  {
   "cell_type": "markdown",
   "metadata": {},
   "source": [
    "<pre><br><br><br></pre>"
   ]
  },
  {
   "cell_type": "markdown",
   "metadata": {
    "button": false,
    "run_control": {
     "read_only": false
    }
   },
   "source": [
    "# Exercise 1: Connecting Up and Checking Your Sensor\n",
    "\n",
    "In this exercise, we will connect the sensor array to our Romi and begin calibrating the sensors. We would like to be able reliably detect whether a sensor is above a light or dark surface.  Because we are only looking to distinguish light **or** dark, it should be entirely possible to detect regardless of surface reflectance.   \n",
    "\n",
    "## Task:\n",
    "- Connect the sensor array to your Romi. Refer to the images below.  You should connect the VCC pin to any of the 5 Volt pins on the Romi, the GND pin to any of the ground pins and pins labelled $1$, $3$, and $5$ to three analogPins on the Romi A4, A3 and A2.\n",
    "- It is recommended you use the pins closest to the printed labels on the circuit board (5v, GND, A4, A3, A2).  This will reduce the risk of plugging your sensor in wrong.\n",
    "- Please use a colour coding which makes sense to you.  Generally, red is used for 5v, black for GND.  \n",
    "- It will help to be consistent with your sensor - for example, left-to-right, use A4, A3, A2.  This will help when you come to program your line following software.\n",
    "- **Please take your time and make sure you do this correctly.**  Remember that when you flip the sensor over, the pins are in the reverse order.\n",
    "- **Leave CTRL disconnected.**  You should have one pin without a connection.\n",
    "\n",
    "<table>\n",
    "    <tr>\n",
    "<td><img src=\"https://github.com/paulodowd/EMATM0054_20_21/blob/master/images/lineSensor_bottom.png?raw=true\"/></td>\n",
    "<td><img src=\"https://github.com/paulodowd/EMATM0054_20_21/blob/master/images/lineSensor_top.png?raw=true\"/></td>\n",
    "    </tr>\n",
    "    </table>\n",
    "\n",
    "\n",
    "\n",
    "\n"
   ]
  },
  {
   "cell_type": "markdown",
   "metadata": {},
   "source": [
    "## Task:\n",
    "\n",
    "It is good practice to keep your code as simple as possible when testing something for the first time.  Start a new Arduino sketch.  If you are working from the provided Code Stub, ignore the tab lineSensor.h for the time being. \n",
    "- Implement the following simple code in your loop().  \n",
    "- Remember to set A4, A3 and A2 as input using pinMode() within setup():\n",
    "\n",
    "```C++\n",
    "// Remmeber, loop is called again and again.\n",
    "void loop() \n",
    "{\n",
    "\n",
    "  // To store result.\n",
    "  int l_value; // left sensor\n",
    "  int c_value; // centre sensor\n",
    "  int r_value; // right sensor\n",
    "\n",
    "  // Read analog voltages\n",
    "  l_value = analogRead( LINE_LEFT_PIN );\n",
    "  c_value = analogRead( LINE_CENTRE_PIN );\n",
    "  r_value = analogRead( LINE_RIGHT_PIN );\n",
    "\n",
    "  // To send data back to your computer.\n",
    "  // You can open either Serial monitor or plotter.\n",
    "  Serial.print( l_value );\n",
    "  Serial.print( \", \" );\n",
    "  Serial.print( c_value );\n",
    "  Serial.print( \", \" );\n",
    "  Serial.print( r_value );\n",
    "  Serial.print( \"\\n\" );\n",
    "\n",
    "  delay(50);\n",
    "}\n",
    "```\n",
    "\n",
    "\n",
    "\n",
    "Use something like paper to vary the surface color underneath the sensors and plot how the output changes.   \n",
    "- Does your left/centre/right description in code match the sensor readings from the hardware?\n",
    "    - Note which pin is connected to which sensor.  E.g., left-most sensor, A4.  Correct the `#define` statement at the top of the code if necessary, or change the wiring to your sensor.\n",
    "- Note the maximum and minimum values that you read. \n",
    "- Are the minimum and maximum values for left/centre/right the same?\n",
    "- Looking at your data, if you were going to decide whether the sensor was over black or white, what threshold value would you use?\n",
    "    - How could you determine this automatically, in code?\n",
    "\n",
    "\n",
    "\n"
   ]
  },
  {
   "cell_type": "markdown",
   "metadata": {},
   "source": [
    "### Checking your line sensor is working:\n",
    "\n",
    "Using the example code above, you should be able to view the operation of your line sensor using the Plotter built into the Arduino IDE.  A working sensor should look similar to the following:\n",
    "\n",
    "<img src=\"https://github.com/paulodowd/EMATM0054_20_21/blob/master/images/plotter_LS_annotated.png?raw=true\"/>\n",
    "\n",
    "**Note:** \n",
    "- Where annotated, the sensor was moved over a black surface and the voltage level moved toward 5volts (converted to a digital value above 750).\n",
    "- You should be able to see a clear shift in the voltage level as you pass a black and white surface under the sensor.  \n",
    "- The 3 line sensors have slightly different values when they are all over a white surface, or all over a black surface - this is normal!  The important aspect is that they do change value, and you'll then be able to detect this change.\n",
    "- If your sensor readings are not changing, unplug your robot and check your wiring. If your wiring is correct and they still do not change, you may have a broken sensor."
   ]
  },
  {
   "cell_type": "markdown",
   "metadata": {},
   "source": [
    "<pre><br><br><br></pre>"
   ]
  },
  {
   "cell_type": "markdown",
   "metadata": {},
   "source": [
    "# Exercise 2: Building a Class"
   ]
  },
  {
   "cell_type": "markdown",
   "metadata": {},
   "source": [
    "A `class` is a way to group code together.  It helps to make writing code more efficient.  It also helps with the readability of code.  These two things together should make your code easier to debug.  At this point, you should have written a few functions and also used some global variables.  We can think of a class as way of containing these same techniques within itself.\n",
    "\n",
    "When a class is used, it is clear what variables are associated to which parts of a program.  A class is usually written to provide it's own set of functions.  In general, when a class is used, it will help to prevent a huge number of variables and functions cluttering up the main part of your program.  When a class is created well it can be used multiple times, providing 'copies' of the same code for different problems.  You can almost think of a class as a \"mini-program\", however you must make calls to it and control its execution from your main program.\n",
    "\n",
    "A class in Arduino has the following basic structure which is mandatory:\n",
    "\n",
    "```C++\n",
    "class myClassName_c {     // This encapsulates (contains) your class, and sets the class-name.\n",
    "  public:\n",
    "    \n",
    "      // The constructor function has the same name as the class\n",
    "      // typename, and works a bit like setup().\n",
    "      myClassName_c() {       \n",
    "\n",
    "      }\n",
    "\n",
    "};      // The end of the class encapsulation.\n",
    "```\n",
    "\n",
    "\n",
    "It is important that you consider the above as just a general template for a class. \n",
    "\n",
    "In your main code, you can create multiple copies of this class.  For example:\n",
    "\n",
    "```C++\n",
    "myClassName_c copy1;\n",
    "myClassName_c copy2;\n",
    "myClassName_c copy3;\n",
    "\n",
    "void setup() {\n",
    "\n",
    "}\n",
    "\n",
    "void loop() {\n",
    "\n",
    "}\n",
    "```\n",
    "\n",
    "Notice in the above, that `copy1` `copy2` and `copy3` all share `myClassName_c` as a type.  Recall that, when we write:\n",
    "```C++\n",
    "int my_int;\n",
    "```\n",
    "\n",
    "We are telling the arduino to create a space in memory to store an integer number.  `int` is the type, and `my_int` is the name we have decided to use to access the space created.   \n",
    "\n",
    "Using classes follows the same format.  We are asking the Arduino to create a space in memory to store all of the code contained within our class (`myClassName_c`), and that we wish to access it via the names `copy1`, `copy2` and `copy3`.  Because we are giving them 3 different names, we are creating 3 different spaces each with the same format.\n",
    "\n",
    "Before going any further, the template declaration of a class uses the typename `myClassName_c`.  The underscore-c `_c` is not a necessary part of declaring a class typename.  However you will notice that if you use a `typedef`, `struct`, `union` or `class` within Arduino, it doesn't receive any syntax highlighting (it is not coloured like a variable type for you).  **In order to make your code easier to debug, it is useful to place a `_c` after a class typename to remind yourself that you are looking at and working with a class.  This small effort will save you a lot of time debugging.**  Similarly, you might use `_s` for a struct, a `_u` for union, a `_t` for typedef.  We do not cover unions, typedef, or struct on this course.\n",
    "\n",
    "Within a class, we can store variables and write functions which will only exist for an individual copy of the class.  For example:\n",
    "```C++\n",
    "class myClassName_c {     // This encapsulates (contains) your class, and sets the name.\n",
    "\n",
    "  public:\n",
    "      \n",
    "      // Variables, kept within your class instance.\n",
    "      int   an_int;           // Lets keep an integer\n",
    "      float a_float;          // and a float.\n",
    "\n",
    "      // Function prototypes - a useful list of functions available in your class..\n",
    "      float returnMyFloat();  // A function to report a_float.\n",
    "      int returnMyInt();    // a function to report an_int.\n",
    "  \n",
    "      \n",
    "      // The constructor function has the same name as the class\n",
    "      // typename, and works a bit like setup(). \n",
    "      myClassName_c() {       \n",
    "\n",
    "          // Similar to setup(), we initialisev variables.\n",
    "         an_int  = 0;\n",
    "         a_float = 0;\n",
    "\n",
    "      }\n",
    "\n",
    "};\n",
    "\n",
    "// A function belonging to myClassName\n",
    "float myClassName_c::returnMyFloat() {\n",
    "  return a_float;\n",
    "}\n",
    "\n",
    "// A function belonging to myClassName\n",
    "int myClassName_c::returnMyInt() {\n",
    "  return an_int;\n",
    "}\n",
    "```\n",
    "\n",
    "Note in the above that, the variables and functions are declared within the class - all the data is kept inside the class encapsulation, the template we are creating.  \n",
    "\n",
    "We have written the functions outside of the class, using the syntax `myClassName::returnMyFloat() { `.  The functions you write outside the class must be prefixed with the name of the class in this way, and the function name must match the declaration set within the class. \n",
    "\n",
    "Once we have defined a class in this way, we can use it very easily from our main program.  For example:\n",
    "```C++\n",
    "myClassName_c copy1;\n",
    "myClassName_c copy2;\n",
    "myClassName_c copy3;\n",
    "\n",
    "void setup() {\n",
    "  copy1.an_int = 10;   // Perform a write to the variable within copy1.\n",
    "  copy2.a_float = 0.6; // Perform a write to the variable within copy2.\n",
    "}\n",
    "\n",
    "void loop() {\n",
    "\n",
    "  copy1.an_int = 20;      // A write operation to the variable inside copy1.\n",
    "  copy1.returnMyInt();    // A function call working from within copy1\n",
    "  copy2.returnMyFloat();  // A function call working from within copy2\n",
    "  \n",
    "}\n",
    "```\n",
    "\n",
    "Notice that, every time we are using the class, we use the name we decided to call our class instance  (`copy1`, `copy2` or `copy3`) and a `.` (dot).  \n",
    "\n",
    "\n",
    "If we are accessing a variable inside a class, we use the name of the variable following the dot, like:\n",
    "```C++\n",
    "  copy1.an_int = 20;      // A write operation to the variable inside copy1.\n",
    "  int a = copy1.an_int;   // A read operation from the variable inside copy1.\n",
    "```\n",
    "\n",
    "If we are calling a function inside a class, we use the name of the function after the dot, like:  \n",
    "\n",
    "```C++\n",
    "  copy1.returnMyInt();    // A function call working from within copy1, \n",
    "                          // not storing returned value.\n",
    "\n",
    "  float b = copy2.returnMyFloat();  // A function call working from within copy2,\n",
    "                                    // storing returned value to variable \"b\"\n",
    "```\n",
    "\n",
    "\n",
    "Functions within a class can also take arguments (variables passed into the function).  If you look at the lineSensor.h class from the code provided, you'll see that the class `LineSensor_c` has the constructor:\n",
    "\n",
    "```C++\n",
    "    // Required function, class Constructor: \n",
    "    // Saves the pin passed in as argument and sets to input\n",
    "    lineSensor_c(int line_pin) {\n",
    "      pin = line_pin;\n",
    "      pinMode(pin, INPUT);\n",
    "    }\n",
    "```\n",
    "\n",
    "Here, `pin` is a variable declared within the class.  We are assigning `line_pin` into pin, meaning that the class will store (e.g. remember) which pin you told it to work from.  The next line sets the pin mode, because we are using this class to operate one of the sensors attached to either A2,A3 or A4.  \n",
    "\n",
    "If you look at the top of the main program (Romi) you should see:\n",
    "\n",
    "```C++\n",
    "// You may need to change these depending on how you wire\n",
    "// in your line sensor.\n",
    "#define LINE_LEFT_PIN A4 //Pin for the left line sensor\n",
    "#define LINE_CENTRE_PIN A3 //Pin for the centre line sensor\n",
    "#define LINE_RIGHT_PIN A2 //Pin for the right line sensor\n",
    "\n",
    "lineSensor_c line_left(LINE_LEFT_PIN); //Create a line sensor object for the left sensor\n",
    "lineSensor_c line_centre(LINE_CENTRE_PIN); //Create a line sensor object for the centre sensor\n",
    "lineSensor_c line_right(LINE_RIGHT_PIN); //Create a line sensor object for the right sensor\n",
    "```\n",
    "\n",
    "Here, we are creating 3 copies of the LineSensor class, named `line_left`, `line_centre` and `line_right` respectively.  When we create these class instances, we also have to pass in the pin - because it is defined this way in the constructor written within LineSensor.h.  We use a `#define` statement to make changing these values quiker and more readable.  Whilst the class template is the same, each of these class instances will now work from a different pin.\n",
    "\n",
    "When you build up the class, you will make calls to these class instances.  For example, within your setup(), you will need to do something like:\n",
    "\n",
    "```C++\n",
    " // Calibrate the three line sensors.\n",
    "  line_left.calibrate();\n",
    "  line_centre.calibrate():\n",
    "  line_right.calibrate();\n",
    "```\n"
   ]
  },
  {
   "cell_type": "markdown",
   "metadata": {},
   "source": [
    "\n",
    "    \n",
    "## Task:\n",
    "\n",
    "### Getting Started\n",
    "\n",
    "You can find a partially complete `class` for your line sensor on github.  It is recommended to download the code stub which has class templates created for you in seperate files. These should appear as tabs within the Arduino IDE.\n",
    "- Add a new function to the lineSensor_c class to return the result of an `analogRead()`\n",
    "- Declare 3 instances of the lineSensor_c class in your main code. \n",
    "    - Make sure that each instance receives a different pin for each of the small IR detectors on the line sensor (`A4`, `A3`, `A2`).\n",
    "    - Use `Serial.print()` within `loop()` to inspect the values reported by your line sensor class.  \n",
    "\n",
    "\n",
    "### Calibrating for Bias\n",
    "\n",
    "You should notice that when your line sensor is over white paper, the 3 IR detectors report slightly different values.  In theory, we want the left, centre and right IR detectors to influence the turning behaviour of the robot equally, left to right.  Therefore, any bias might cause the robot to drift one way or the other.  We can remove this bias to make the sensor easier to work with.\n",
    "\n",
    "- Write a calibration routine for the IR sensor.  \n",
    "    - Your calibration routine should compensate for any bias in each individual sensor signal.\n",
    "    - You'll need to create variables within the class to store your bias reading.\n",
    "    - The simplest way to calibrate is to construct a mean (average) value whilst the IR detector is over a white surface.  When we then take later readings, we can subtract this average (the bias) from our reading. \n",
    "    - **Hint:** Be careful of variable over flow.  If you store something like 100 sensor readings into a float it may overflow.  It can be better to store, on each iteration, the current reading divided by the total number of samples - e.g., accumulating the fractional values\n",
    "    - The way floating point numbers are stored computationally is really clever and interesting, <a href=\"https://youtu.be/PZRI1IfStY0\">check out this video!</a>\n",
    "\n",
    "    - **Hint:** Be careful of type conversion. If you store sensor readings into an int, a division operator or multiplication by a fraction may return 0.\n",
    "    - **Hint:** In order for our calibration routine to run correctly, the Romi should remain stay with all sensors on a white surface. It's a good idea to add a beep to the end of your calibration routine so you know when your calibration is complete.\n",
    "- Write and test a new function which returns the `analogRead()` value minus your calibrated bias value.  A good name would be readCalibrated().\n",
    "- Adjust your main code so that:\n",
    "    - When your robot powers up, `setup()` calls the calibrate routine for each of your 3 IR detectors on the line sensor.\n",
    "    - Your Romi then reports via Serial the calibrated values from your sensor.\n",
    "\n",
    "### Going further (optional)\n",
    "\n",
    "If you are observant, you may notice that once you have completed your calibration, your Romi may later report negative values from the sensor, even though we would expect calibration to fix the 'white surface' value to 0.  This is largely due to changes in the environment.  As your robot travels:\n",
    "- the ambient light will change, effecting the sensor reading.\n",
    "- the Romi chassis will move, altering the distance to the surface.\n",
    "- the stablity of the power supply for your Romi may vary, effecting readings.\n",
    "\n",
    "A technique to mitigate such factors may be to continuously calibrate the sensor during the operation of you Romi, but this requires careful consideration.\n",
    "\n",
    "In the above task, we also only corrected for bias over a white surface.  There are other factors.  For instance:\n",
    " - the minimum value reported by the sensor.\n",
    " - the maximum value reported by the sensor.\n",
    " - the slope of the line between minimum and maximum.\n",
    " - the linearity of the reponse.\n",
    " \n",
    "These are interesting characteristics to explore - however we can consider that there is a trade-off between the time we spend developing robust solutions, versus the measurable performance of the robotic system.  Two skills to develop through practice with robotic systems are:\n",
    "- to identify when a solution is 'good enough', often in terms of it being robust and reliable in performance.  \n",
    "- to identify whether artefacts (such as small negative values as discussed above) actually effect performance or not.\n"
   ]
  },
  {
   "cell_type": "markdown",
   "metadata": {},
   "source": [
    "<pre><br><br><br></pre>"
   ]
  },
  {
   "cell_type": "markdown",
   "metadata": {
    "button": false,
    "run_control": {
     "read_only": false
    }
   },
   "source": [
    "# Exercise 3: Bang-Bang controller\n",
    "\n",
    "In this exercise, we will implement a simple Bang-Bang controller to follow a line. A Bang-Bang controller selects from a limited range of control outputs (Usually two, but in this case three). The control logic (the decision the robot will make) is as follows:\n",
    "\n",
    "- Line under sensor 1 -> Turn Right\n",
    "- Line under sensor 2 -> Go Straight\n",
    "- Line under sensor 3 -> Turn left\n",
    "\n",
    "The output from an individual reflectance sensor will be a voltage between 0 and $V_{in}$. This will be read by the Analog to Digital Converter (ADC) in the Romi's Atmel 32u4 and converted to an integer between 0 and 1023. We must convert these numbers into something which is meaningful to us. The simplest way to do this is to convert the output to a binary signal (telling us whether a particular sensor is over a line or not) by applying a threshold. \n",
    "\n",
    "## Task 1:\n",
    "- Determine an appropriate threshold for this signal. \n",
    "- Start by repeatedly printing the (calibrated) value of the sensor and see how it changes as you move the sensor on and off a line. \n",
    "- Adapt your code to print to the Serial port whenever a sensor is over a line. \n",
    "- Repeat this process for the other two sensors. Your system should now print whenever a sensor believes it is over a line. Briefly evaluate the performance of your solution to be correct and reliable.\n",
    "\n",
    "\n",
    "## Task 2:\n",
    "\n",
    "- Write a function \"BangBang()\" which implements the Bang-bang controller. Make a call to this function from `loop()`. \n",
    "- BangBang() will need if() statements to decide how to move your motors given which sensor threshold is crossed.  \n",
    "- BangBang() should be called repeatedly by the main loop - avoid using blocking calls such as `while()` and `for()`.  \n",
    "\n",
    "**Hint:** It can be useful to ignore forward movement to begin with.  Instead, check that your robot turns toward the line and centres well first.  A common error is that the robot is actually turning away from the line, but still manages to work \"somtimes\".\n",
    "\n",
    "**Hint:** Be aware that high motor power values will cause your robot to move very quickly - and so the sensor may completely skip over the line before it can take a reading.  Therefore, start with low power values for your motors, and then increase these towards a more desirable performance.\n",
    "\n",
    "**Hint:** You will need to make a few decisions when implementing this approach. You will need a threshold for evaluating which sensor the line is under, and also decide appropriate motor power values for forward and turning. You will also need to consider what your controller should do if it detects a line under multiple sensors (or even none).\n",
    "\n",
    "**Hint:** In terms of behaviour, how could the following two pieces of code differ?  Think especially in terms of unwanted behaviour concerning the final value of the variable **a**.  \n",
    "\n",
    "```C++\n",
    "/* Example 1 */\n",
    "\n",
    "int a = 0;\n",
    "if( condition1 == true ) {\n",
    "  a = 1;\n",
    "} \n",
    "if( condition2 == true ) {\n",
    "  a = 2;\n",
    "}\n",
    "if( condition3 == true ) {\n",
    "  a = 3;\n",
    "}\n",
    "\n",
    "\n",
    "/* Example 2 */\n",
    "\n",
    "int a = 0;\n",
    "if( condition1 == true ) {\n",
    "  a = 1;\n",
    "} else if( condition2 == true ) {\n",
    "  a = 2;\n",
    "} else if( condition3 == true ) {\n",
    "  a = 3;\n",
    "} else {\n",
    "  \n",
    "}\n",
    "```\n",
    "\n",
    "## Task 4:\n",
    "Evaluate the performance of the controller. Use a range of lines to test performance. \n",
    "- Which characteristics of line does it struggle with?  When does it simply fail?\n",
    "- What could be good metrics for measuring line following performance? \n",
    "- How does the performance vary as you alter the parameters discussed above?"
   ]
  },
  {
   "cell_type": "markdown",
   "metadata": {},
   "source": [
    "<br><br><br><br>"
   ]
  },
  {
   "cell_type": "markdown",
   "metadata": {
    "button": false,
    "run_control": {
     "read_only": false
    }
   },
   "source": [
    "# Exercise 4: Weighted Line Sensing\n",
    "\n",
    "The simple thresholding method we used in Exercise 3 has two big drawbacks\n",
    "- it is very sensitive to our choice of where we put the threshold. \n",
    "- it throws away a lot of useful information by just assessing for above or below a threshold.\n",
    "\n",
    "A more elegant approach is to think of the output of each sensor as a likelihood that the sensor is over a line. We can then use these likelihoods to calculate a most probable location for the line (relative to the sensor).  This can give us a continuous signal of line position, rather than a binary signal."
   ]
  },
  {
   "cell_type": "markdown",
   "metadata": {
    "button": false,
    "run_control": {
     "read_only": false
    }
   },
   "source": [
    "\n",
    "\n",
    "One method to get the desired measurement is to:\n",
    "\n",
    "\n",
    "1) Calculate the total magnitude of the calibrated sensor readings: $I_{total} = I_{left} + I_{centre} + I_{right}$\n",
    "\n",
    "2) Calculate each sensor reading as proportional to the total: $$P_i = \\frac{I_{i}}{I_{total}}$$ where $$i = [ left, centre, right]$$\n",
    "\n",
    "3) Calculate the final output Measurement as $$M = ( P_{left} - P_{right} )$$\n",
    "\n",
    "\n",
    "\n",
    "Using this method, M should produce a value in the range `[ -1 : +1 ]`, which we could intepret as `go left` or `go right`, depending on how your sensor is wired up.  Each sensor will return a whole number value between [ 0 : 1023 ] from `analogRead()` or your calibrated read function.  Because we are going to operate a division and work with fractions, it is advisable to use a `float` type variable in your code.\n",
    "\n",
    "\n",
    "\n",
    "## Task 1:\n",
    "Write code for your Romi to perform the above calculations from its line sensor readings.  \n",
    "- Print the output over Serial and verify it is correct by moving the Romi by hand.  \n",
    "- Check to see if the Measurement values towards -1 occur when the line moves to the left, and towards +1 when the line moves to the right.  You could reverse this left/right relationship if you wish.  What makes intuitive sense to you?\n",
    "- Check that you receive values tending towards 0 when the line is centred under the sensor.\n",
    "- **Hint**: analogRead() returns a value of the type `int`.  We know that an `int` cannot store a fraction (e.g. 0.00512).  If analogRead(A2) returns 500, what value will be stored in the variable `result`?  Why?\n",
    "\n",
    "<pre>\n",
    "<font color=\"#00979c\">float</font> <font color=\"#000000\">result</font> <font color=\"#434f54\">=</font> <font color=\"#d35400\">analogRead</font><font color=\"#000000\">(</font><font color=\"#000000\">A2</font><font color=\"#000000\">)</font> <font color=\"#434f54\">&#47;</font> <font color=\"#000000\">1000</font><font color=\"#000000\">;</font>\n",
    "\n",
    "</pre>\n",
    "\n",
    "- **Hint:** You will spend less time debugging your code if you break the above calculation down into many individual steps.  Always make sure you store values into the appropriate `variable type` before you conduct arithmatic.  \n"
   ]
  },
  {
   "cell_type": "markdown",
   "metadata": {
    "button": false,
    "run_control": {
     "read_only": false
    }
   },
   "source": [
    "## Task 2:\n",
    "Update your BangBang() function to utilist your new Line Measurement value.\n",
    "- Note that, when your line measurement equals 0, you must instruct your Romi to drive fowards.\n",
    "\n",
    "## Task 3:\n",
    "Our Line Measurement (`M`) is a value between [-1 : +1 ].  We can use this value to instead scale the power of the left and right motor.  This would have the effect of providing a proportional response of power in relation to how strong the value of the measurement `M` is.  Simply put:\n",
    "\n",
    "$$Power_{max} = 100$$\n",
    "$$Power_{left} = M * Power_{max} * +1$$\n",
    "$$Power_{right} = M * Power_{max} * -1$$\n",
    "\n",
    "In the above equation, we have the addition of a `*+1` or `*-1`.  Why is this?\n",
    "\n",
    "Using the above equation, if our measurement `M` was +0.67:\n",
    "\n",
    "$$Power_{left} = 67$$  \n",
    "$$Power_{right} = -67$$\n",
    "\n",
    "- Save a copy of your BangBang() code.  Now write a new function that implements the above method.  Give your new function a name that makes sense to you.\n",
    "- **Note:** the maximum power of 100 is given just as an example.  \n",
    "- We multiply the left by the +1 constant, and the right by a -1 constant - why is this?\n",
    "- Implement this code for your Romi.  Check that the turning direction is correct.  Fix it if not.\n",
    "- With this solution, what happens when your Romi is centred on the line?  How can you bias the solution to always move forwards?\n",
    "\n",
    "**Hint**: When we are using M to scale our motor power, beware of high motor power values.  These can cause very sudden motion, causing the sensor to skip over the line without taking a reading.  It can be better to limit the minimum and maximum motor power values scaled by M.\n",
    "\n",
    "**Hint**: Remember that `analogWrite()` only operates properly with a whole number value between [ 0 : 255 ].  If you have a motor power which is negative, you will need to change the direction pin of your motor, and send the absolute (non-signed) value  of the motor power to analogWrite().  If you haven't done it already, it is better practice to write a function to perform setting the power of your motors which can handle any sign and power value sent to it.\n",
    "\n",
    "\n",
    "## Task 4:\n",
    "\n",
    "Consider seperating the line following behaviour into two component behaviours:\n",
    "- turning to face central on the line (turning bias)\n",
    "- moving forwards (forward bias).\n",
    "\n",
    "Investigate the effect of a forward bias on your solution. See how fast you can get your robot to follow the line before it becomes unreliable.\n",
    "- How does a forward bias effect the ability of your robot to detect and take corners?\n",
    "- How might you increase or decrease the turning relative to forward speed of the robot?\n",
    "- For a given forward bias, what is the most acute corner that can be taken?\n",
    "- If you were writing a report, how could you present a metric of the reliability of your solution to follow the line?\n",
    "\n"
   ]
  },
  {
   "cell_type": "markdown",
   "metadata": {},
   "source": [
    "<br><br><br><br>"
   ]
  },
  {
   "cell_type": "markdown",
   "metadata": {},
   "source": [
    "# Exercise 5: No Line!\n",
    "\n",
    "By this point, you should have a Weighted Line Sensor method implemented, and your robot able to follow the line.  Up until now, it would make sense that you were picking up your robot and placing it on the line to test how well it worked.\n",
    "\n",
    "However:\n",
    "- what would be the measurement `M` if the robot was not on a line?\n",
    "- what should the robot do if it is not on a line?\n",
    "- What does your bang-bang controller do when there is no line?\n",
    "- Is M useful to make an autonomous decision when the robot is not on a line?\n",
    "\n",
    "\n",
    "## Task:\n",
    "\n",
    "Currently, your controller only works when the robot starts positioned on a line. We can use the information from the sensor to determine whether we are on a line or not.  The simplest way to do this is to check to see whether any of the sensor readings are above a threshold value.  If none of them are, the robot must be away from the line.\n",
    "\n",
    "- Implement a function into your `lineSensor_c` class that checks to see if the line sensor is on a line (or not).  Your function could return the type `boolean`, meaning `return true;` or `return false`.  This would allow you to write some code such as:\n",
    "\n",
    "\n",
    "```C++\n",
    "if( my_line_sensor.onLine() ) { // returns true\n",
    "    \n",
    "} else {                        // returns false\n",
    "    \n",
    "}\n",
    "\n",
    "```\n",
    "\n",
    "\n",
    "\n"
   ]
  },
  {
   "cell_type": "markdown",
   "metadata": {
    "button": false,
    "run_control": {
     "read_only": false
    }
   },
   "source": [
    "# Exercise 6: Joining a Line\n",
    "\n",
    "We can now use our reflectance array to follow lines, and the robot can determine whether it is on a line or not. If you can get your robot to join the line, you should be ready to make a pretty good attempt at the line following challenge.  \n",
    "\n",
    "## Task 1:\n",
    "\n",
    "Write a simple test behaviour for finding a line:\n",
    "- Write a simple \"Move straight\" behaviour which commands the Romi to move forward until it encounters the black line. \n",
    "- It is useful to use the debug LED to show you when the robot detects a line (or not).\n",
    "- When your robot finds the line, have it stop.  Test how robust this behaviour is.\n",
    "\n",
    "\n",
    "\n"
   ]
  },
  {
   "cell_type": "markdown",
   "metadata": {
    "button": false,
    "collapsed": true,
    "run_control": {
     "read_only": false
    }
   },
   "source": [
    "## Task 2:\n",
    "Now add a behaviour which switches between line following (When the Romi believes it is on a line) and moving in a straight line (When the Romi does not believe it is on a line), or even a mixture of straight line movement and random turns.\n",
    "- Test your code to see how well it can join a line from different angles.  \n",
    "    - Is there a limit, e.g., joining on to a line perpendicular?\n",
    "- Depending on how you are writing your solution, you may need an intermediate behaviour to transition from \"stopping on the line\" to \"joinging the line\".\n",
    "\n",
    "\n",
    "\n",
    "\n"
   ]
  },
  {
   "cell_type": "markdown",
   "metadata": {},
   "source": [
    "<br><br><br><br>"
   ]
  },
  {
   "cell_type": "markdown",
   "metadata": {},
   "source": [
    "\n",
    "# Exercise 7: A measure of Confidence (optional)\n",
    "\n",
    "\n",
    "\n",
    "An interesting approach is to use a confidence value which represents how reliably the robot has been able to follow the line. The logic for a confidence value works as follows:\n",
    "\n",
    "- whilst on the line, confidence increases.\n",
    "- when off the line, confidence decreases.\n",
    "\n",
    "By following this basic premise, our confidence will go up and down progressively over time, depending on the sucess of the robot to follow the line.  This is opposed to simply taking an instantaneous reading of whether the robot is on or off a line.  Therefore, choosing how much to increase and decrease confidence will change how much of the prior performance of the robot will influence the robot behaviour.\n",
    "\n",
    "This mechanism can be useful to vary the speed of your robot with respect to how well it is following a line.  A common issue is that a tight corner may need the robot to stop moving fowards and instead turn on the spot.  A confidence measure allows a missed tight corner to be recognised without other perceptual cues (e.g., the tight corner is not \"mapped\" or \"seen\").  Arguably, you could program your Romi to move very slowly for the entire course - however this is grossly inefficient.  Without a confidence measure, your robot might jitter on every occasion it momentarily comes off the line (i.e. not a corner).  With a confidence measure, smooth curves can be traversed with foward momentum in addition to a turning behaviour.  By including this information, your robot can afford to lose the line momentarily, and you should observe overall smoother behaviour.  \n",
    "\n",
    "- Decide how to increment and decrement your confidence value.\n",
    "- Consider how often (frequency, time) that you are updating your confidence value.\n",
    "- Utilise your confidence value to alter the foward bias of your robot.\n",
    "    - If you limit your confidence value to be between [0.00: 1.00], you can use this to scale a forward bias value.\n",
    "    - Permitting a negative confidence could also create a reversing motion!\n",
    "\n",
    "**Hint:** You can play with allowing the rate of increase and decrease of the confidence to be asymetric.  We could think of this as creating a robot which quickly loses confidence (a nervous robot?).  You could start by having fixed additive (+ some amount to confidence) or multiplicitive ( multiply confidence by some amount) changes to confidence.  There is no reason not to use a combination of additive and multiplicative, if it suits your task.  \n"
   ]
  }
 ],
 "metadata": {
  "kernelspec": {
   "display_name": "Python 3",
   "language": "python",
   "name": "python3"
  },
  "language_info": {
   "codemirror_mode": {
    "name": "ipython",
    "version": 3
   },
   "file_extension": ".py",
   "mimetype": "text/x-python",
   "name": "python",
   "nbconvert_exporter": "python",
   "pygments_lexer": "ipython3",
   "version": "3.8.5"
  }
 },
 "nbformat": 4,
 "nbformat_minor": 2
}
