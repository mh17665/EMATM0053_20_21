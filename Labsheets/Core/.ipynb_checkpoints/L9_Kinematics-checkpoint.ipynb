{
 "cells": [
  {
   "cell_type": "markdown",
   "metadata": {},
   "source": [
    "# Lab 9 Kinematics and Odometry"
   ]
  },
  {
   "cell_type": "markdown",
   "metadata": {},
   "source": [
    "In previous labsheets, you have:\n",
    "- Set the power of the two ROMI motors with analogWrite().\n",
    "- Controlled the speed of your motors using PID, encoder counts and time.\n",
    "- Created a nested-PID system to set wheel speed based on a desired heading from the line sensor.\n",
    "\n",
    "    \n",
    "In this labsheet, you will write a class for the Romi's kinematics, allowing you to maintain an estimate your position.  We will then use this to implement two ways of moving to a target  position (in global co-ordinates). In the lecture we saw that Kinematic update equations for the Romi mostly involve transforming movement in the local co-ordinate frame to the global co-ordinate frame with the transformation matrix shown below.  In actuality, this resolves to some simple triginometry equations."
   ]
  },
  {
   "cell_type": "markdown",
   "metadata": {},
   "source": [
    "<img src=\"https://github.com/paulodowd/EMATM0054_20_21/blob/master/images/Coords.png?raw=true\"/>"
   ]
  },
  {
   "cell_type": "markdown",
   "metadata": {},
   "source": [
    "\n"
   ]
  },
  {
   "cell_type": "markdown",
   "metadata": {},
   "source": [
    "\n",
    "    \n",
    "In the Code Stub, both the encoders.h and pid.h files are incomplete, and you should replace them with your completed code from the previous lab sheets. You will also find that the kinematics.h file is empty. This is where will we write our class definition. If you are unsure about the syntax for this, refer to the pid.h file for an example. \n",
    " \n",
    "The architecture we use for the kinematics class will be similar to the PID class we developed in the last sheet. We will need some variables to represent our pose $(x, y, \\theta)$, some methods that allow us to set and get these values, and an `update()` method which we call repeatedly to update our estimated position.\n",
    " \n",
    "# Task 0:  \n",
    "\n",
    "Prepare your template for the kinematics class. Make sure this code compiles before progressing to the next exercises. If you are unsure how to do this, ask for help!"
   ]
  },
  {
   "cell_type": "markdown",
   "metadata": {},
   "source": [
    "<h1> Exercise 1: Straight line Kinematics</h1>"
   ]
  },
  {
   "cell_type": "markdown",
   "metadata": {},
   "source": [
    "As we discussed in the lecture, if both wheels are turning at the same speed, then the Romi will move forward, with no change in heading ($\\theta$). The Kinematics simplifies down nicely: the change in forward travel is described by:\n",
    "\n",
    "$$x_{new} = x_{old} + d * cos(\\theta)$$\n",
    "$$y_{new} = y_{old} + d * sin(\\theta)$$"
   ]
  },
  {
   "cell_type": "markdown",
   "metadata": {},
   "source": [
    "To apply this update we will need to:\n",
    "- Calculate the change in encoder count since the last update\n",
    "- Convert this change to an appropriate unit (mm or cm)\n",
    "    \n",
    "Find from the datasheets (or prior labsheets) the following information:\n",
    "- how many encoder pulses per full rotation of the magnet\n",
    "- how many magnet rotations per wheel rotation (the gearbox reduction ratio)\n",
    "- the radius and/or circumference of the wheel.\n",
    "\n",
    " \n",
    " ## Task 1:\n",
    " Add code to the update method of the kinematics class to implement the tracking of forward movement - for now, ignoring an update to rotation (theta).\n",
    " \n",
    " - **Hint:** The left and right encoder counts may be different, especially if we are following a curved path (say when following a line). You can use the mean change in encoder count between the left and right encoders for the value of $d$.  A later exercise is to correctly implement the kinematics for curved paths.\n",
    " \n",
    " \n",
    "## Task 2: \n",
    "\n",
    "Verify that your straight line kinematics are correct:\n",
    "\n",
    "- Move your Romi by hand and measure the distance travelled and compare it to the output from your kinematics. \n",
    "- Remember that you will need to add some code to the main .ino file to create an instance of your Kinematics class, provide some initial values for the Pose, and then call the update repeatedly in the main loop. \n",
    "- Test to see if moving forwards and then backwards returns your kinematic pose back to the origin (x=0, y=0).\n",
    "- Develop better tests to see if the distance reported by the Kinematics is accurate to the distance travelled in reality.\n",
    "- Activate your motors, testing for the same above properties.  \n",
    "    - Have your robot stop after a specified forward distance."
   ]
  },
  {
   "cell_type": "markdown",
   "metadata": {},
   "source": [
    "<h1> Exercise 2: Turning Kinematics</h1>"
   ]
  },
  {
   "cell_type": "markdown",
   "metadata": {},
   "source": [
    "If the Romi wheels are turning at different speeds, then we will get a change in heading. \n",
    "\n",
    "We can estimate the change in heading by:\n",
    "\n",
    "$$\\theta_{new} = \\theta_{old} + (d_{left} - d_{right})  /  wheel\\_seperation$$\n",
    "\n",
    "where $d_{left}$ is the distance moved by the left wheel, $d_{right}$ is the distance moved the right wheel and wheel_seperation is the distance between the two wheels. \n",
    "\n",
    "Note that this update makes the assumption that the Romi is always turning on the spot. We know from the lecture that this is only the case when the left and right wheels have exactly opposite velocities. In practice, your PID controllers may be autonomously modulating the speed of your motors differently, and your Romi will gradually accrue error in its pose.  \n",
    "\n",
    "## Task 1: \n",
    "Implement this update to rotation (theta) in your kinematics class. \n",
    "- First of all, rotate your Romi by hand and see if the reported theta is sensible.\n",
    "- Develop a way to test if a 90degree turn in software results in a 90degree turn in reality.\n",
    "- Determine if error you see is **random** or **systematic**.\n",
    "- If your kinematics appears to be working, but has a repeatable systematic error, investigate the key parameters of your kinematics to remove this systematic error.\n",
    "    - **Note**: to get home precisely and accurately, you will need to test and calibrate the key dimensions you set in your kinematics, such as the wheel radius and wheel seperation.  What would be the effect of each of these if they are incorrect?\n",
    "        - Wheel radius\n",
    "        - Wheel seperation\n",
    "        - The unit conversion (encoder counts, gear box ratio, etc)\n",
    "    - **Note**: Which of the above factors would have the greatest effect on the error of your rotation?  You can work this out theoretically, or find out empirically.\n",
    "\n",
    "## Task 2:\n",
    "Once you are happy with your kinematic model and reported pose:\n",
    "- Conduct methodical tests to quantify the error in theta and forward travel.\n",
    "- How many trials of movement are enough to create a measure to be confident in?\n",
    "- How does your error measurement vary with respect to larger or smaller moves (either rotation or travel?)\n",
    "- Working empirically, does foward travel or rotation contribute greater error?\n",
    "    - What is the effect of each of these on the position estimate?"
   ]
  },
  {
   "cell_type": "markdown",
   "metadata": {},
   "source": [
    "# Exercise 3: Going Home\n",
    "\n",
    "Now that our kinematics class can integrate changes in both position ($x, y$) and heading ($\\theta$), we can use it to move to target positions in our global co-ordinate system. Assuming there are no obstacles in the way, we can do this by decomposing the task into two steps:\n",
    "\n",
    "    1. Turn to face the target\n",
    "    2. Move forward until we reach the target"
   ]
  },
  {
   "cell_type": "markdown",
   "metadata": {},
   "source": [
    "<img src=\"https://github.com/paulodowd/EMATM0054_20_21/blob/master/images/atan2.png?raw=true\"/>"
   ]
  },
  {
   "cell_type": "markdown",
   "metadata": {},
   "source": [
    "We can find the angle we must turn through to face the target with a little bit of trigonometry. If our position is $(x, y)$ and the target position is $(x_t, y_t)$, then we want to move the distances:\n",
    "\n",
    "$$ d_x = x_t -x $$\n",
    "$$ d_y = y_t -y $$\n",
    "\n",
    "We can then calculate the angle that points us towards this point by taking $\\tan^{-1} \\frac{dy}{dx}$ (This is just from SOH-CAH-TOA). This gives us the angle we want to face; to find the turn we must make, we then subtract our current heading to get the change in angle we need to make to turn towards the target. We can convert this into a target encoder count and try to reach it either open loop (By stopping when we get near to it), or ask a PID heading controller to take us there.\n",
    "\n",
    "**Note:** This task is deceptively tricky.  When we use $\\tan^{-1} \\frac{dy}{dx}$, we have a problem when the two angles are crossing the 0 (or 360) degrees direction.  For this reason, the <a href=\"https://en.wikipedia.org/wiki/Atan2\">atan2()</a> function is extremely helpful.  \n",
    "\n",
    "**Note:** When we calculate the angle home, we have a second angle which is the direction the robot is currently facing.  We need to minimise the error between the angle home and the robot angle to 0.  Simple knowing the angle home isn't enough - the robot might be facing the wrong way at position x,y.\n",
    "\n",
    "## Task 1:\n",
    "Implement a `turnToTarget( demand_angle )` behaviour. Use the approach above to calculate a desired turning angle.\n",
    "\n",
    "- Depending on how you calculate your angles, it may be useful to look up how to find the **smallest** difference between two angles, rather than turning your robot the long way around.\n",
    "- Check that your Romi can turn to face home.\n",
    "- Check that your Romi can turn to face arbitrary angles, in particular 0 or 2PI(360).  \n",
    "    - It may be a good idea to write a simpler program where you can initialise the robot with arbitrary x,y and theta values.  This will make debugging quicker.  It takes a long time to watch your Romi travel the whole Line task.\n",
    "\n",
    "\n",
    "## Task 2:\n",
    "\n",
    "\n",
    "Once we have got a good calculation of heading, we can calculate the distance we must move with Pythagoras theorem:\n",
    "\n",
    "$$ distance = sqrt(d_x^2 + d_y^2) $$\n",
    "\n",
    "- Check that your Romi is able to calculate the correct distance home. \n",
    "- Implement a `driveStraightUntilDistance( demand_distance)` behaviour.\n",
    "\n",
    "## Task 3:\n",
    "\n",
    "Create a sequence of these two behaviours into a `moveToPosition( x, y, theta )` behaviour. Start by using a controller to turn towards the target and then switch to a (straight line) controller to move to the goal. You will need to include a little bit of logic that decides when to make this switch.\n",
    "- These behaviours can be created using a BangBang controller if you have not done PID.\n",
    "- What is a good criteria to decide when a turning operation is complete?\n",
    "- When should the robot stop driving?\n",
    "- In this approach, we are assuming that once the Romi has orientated towards the goal, it remains at the correct orientation - this should make you very suspicious!  What do you observe?\n",
    "\n"
   ]
  },
  {
   "cell_type": "markdown",
   "metadata": {},
   "source": [
    "<br><br><br><br>"
   ]
  },
  {
   "cell_type": "markdown",
   "metadata": {},
   "source": [
    "# Exercise 4: Going Home more elgantly."
   ]
  },
  {
   "cell_type": "markdown",
   "metadata": {},
   "source": [
    "An alternative way to implement the behaviour above is to re-use the heading controller you (may) have been using for line following.  If we do something like:\n",
    "\n",
    "```C++\n",
    "// Determine feedback to turn toward home\n",
    "turning = headingPID.update( demand, measurement );\n",
    "\n",
    "// Sum with a foward bias\n",
    "left_motor_speed  = forward_bias + turning;\n",
    "right_motor_speed = forward_bias - turning;\n",
    "\n",
    "// Send left_motor_speed and right_motor_speed\n",
    "// to the left/right PID speed controllers.\n",
    "```\n",
    "\n",
    "When the heading is wrong, the heading controller will send a large output (but with opposite directions) to the Romi's motors. As the error with respect to direction decreases, so should the `turning` contribution.  This will make the Romi face towards the target. When the heading error is 0,  the `turning` contribution should be 0. However, the foward_bias will mean that both wheels move forwards. Finally, you will also need to include something which stops the Romi when it is close to the target.  \n",
    "\n",
    "## Task 1:\n",
    "Implement this behaviour.\n",
    "- What should the demand be?\n",
    "- What should the measurement be?\n",
    "- What is the desirable error value to face toward home?\n",
    "- What would happen if your kinematics theta value became very large or very small?\n",
    "- If you are using atan2(), the angle home will be reported in -PI/+PI range.  Is this compatible with your kinematics theta?\n",
    "    - For example, if you maintain your kinematics theta in the range [ 0: TWO_PI ], an angle to home of -PI could produce a very large demand."
   ]
  },
  {
   "cell_type": "markdown",
   "metadata": {},
   "source": [
    "# Exercise 5: Characterising your System\n",
    "\n",
    "## Task 1 \n",
    "\n",
    "At this point in the labsheets, you should be nearing a complete solution for Assessment 1.  \n",
    "\n",
    "- Ensure that your kinematics has good precision and accuracy in calculating pose.\n",
    "    - You may need to conduct small experiments relating to the model of your Romi (e.g., wheel radius, etc).\n",
    "    - Conduct experiment to understand what type of error you accrue in kinematics, and when this happens (e.g., straight line error, turning error).\n",
    "\n",
    "\n",
    "- Integrate the kinematics with your line following solution and:\n",
    "    - Experiment with triggering the 'Go Home' behaviour at different locations, and understand how accurately your Romi returns to where it started.\n",
    "    - Determine a margin of error you'd expect to see.\n",
    "    \n",
    "    \n",
    "- Adapt your prior solutions for movement to help mitigate error accrued in kinematics\n",
    "    - You may need to investigate the performance of your PID routines\n",
    "    - You may need to consider how movements are sequenced\n",
    "    - You may need to investigate the timing and sequence of your _loop()_\n"
   ]
  },
  {
   "cell_type": "markdown",
   "metadata": {},
   "source": [
    "# Exercise 6: Improved Kinematics (optional)"
   ]
  },
  {
   "cell_type": "markdown",
   "metadata": {},
   "source": [
    "## Task 1:\n",
    "\n",
    "As discussed above, the Kinematic update used in this worksheet makes the assumption that the Romi only rotates on the spot or moves in a straight line. As we saw in the lectures, a better model would calculate the instantanous centre of curvature of the two wheels (ICC) and then transform rotation around this point into a change in Pose. Using available resources online, or a textbook, find the appropriate equations to implement this model and adapt your Kinematics class to use this approach. "
   ]
  }
 ],
 "metadata": {
  "kernelspec": {
   "display_name": "Python 3",
   "language": "python",
   "name": "python3"
  },
  "language_info": {
   "codemirror_mode": {
    "name": "ipython",
    "version": 3
   },
   "file_extension": ".py",
   "mimetype": "text/x-python",
   "name": "python",
   "nbconvert_exporter": "python",
   "pygments_lexer": "ipython3",
   "version": "3.8.5"
  }
 },
 "nbformat": 4,
 "nbformat_minor": 2
}
