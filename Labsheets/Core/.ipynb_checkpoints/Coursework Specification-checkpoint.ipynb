{
 "cells": [
  {
   "cell_type": "markdown",
   "metadata": {},
   "source": [
    "# EMATM0054: Coursework Specification\n",
    "\n",
    "EMATM0054 is assessed by 100% coursework.  The emphasis of this coursework is to prepare you to develop and conduct experiments with robotic systems, including how to report results.  \n",
    "- The first part of this coursework will build up a foundation level of skill in developing a robotic system on an individual basis.  \n",
    "- The second part of this coursework provides freedom and encouragement for you to exercise critical thinking and reasoning with your peers in group work.\n",
    "\n",
    "\n",
    "This document provides the requirements, rules and critertia for the coursework.  The coursework is split into two assessments:\n",
    "- **[40%] Assessment 1 (individual basis):** You must program your Romi robot to autonomously follow a line marked out on the floor, adhering to the Assessment 1 Specification (below) and the <a href=\"https://github.com/paulodowd/EMATM0054_20_21/blob/master/Specifications/Map_Specification.ipynb\">Map Specification</a>.\n",
    "    - Deadline: Week X, xx/xx/2020, 5pm.  \n",
    "    - Submission of video, code and self-assessment declaration to Blackboard.\n",
    "\n",
    "\n",
    "- **[60%] Assessment 2 (group basis):** Your group must produce a 6-page report which details an experimental investigation concerning your Romi, adhering to the Assessment 2 Specification.\n",
    "    - Deadline: Week X, xx/xx/202x, 5pm.\n",
    "    - Submission of 6-page report & code to Blackboard.\n",
    "\n",
    "This coursework runs across two consecutive 6-week study periods for Assessment 1 and Assessment 2 respectively.  You will be assigned into your groups from week 1 with the expectation that these will be your groups until the end of the unit of study (week 12).  Your group will meet weekly as a **study group** with staff.  Your study will be supported by contact time with staff in the form of 2-hour lab-sessions each week (except `reading week, week 6`), and via lectures/Q&A sessions provided online.  \n",
    "\n",
    "You should treat the 2-hour lab-session as valuable time to raise questions with staff and gain feedback on your progress.  Do not attempt complete the coursework by only working  within each 2 hour lab-session - use time away from staff to work independently.  Within your groups, it is encouraged that you discuss your progress with your peers and generally support each other.  However, Assessment 1 must be your own work.  \n",
    "\n",
    "This coursework has been designed so that by week 7, you will all have gained a good level of skill competency to effectively work as a group to conduct an experimental investigation toward Assessment 2.\n",
    "\n",
    "\n",
    "## Assessment 1 Specification\n",
    "\n",
    "\n",
    "### Map Specification\n",
    "\n",
    "\n",
    "## Assessment 2 Specification\n"
   ]
  }
 ],
 "metadata": {
  "kernelspec": {
   "display_name": "Python 3",
   "language": "python",
   "name": "python3"
  },
  "language_info": {
   "codemirror_mode": {
    "name": "ipython",
    "version": 3
   },
   "file_extension": ".py",
   "mimetype": "text/x-python",
   "name": "python",
   "nbconvert_exporter": "python",
   "pygments_lexer": "ipython3",
   "version": "3.8.2"
  }
 },
 "nbformat": 4,
 "nbformat_minor": 4
}
