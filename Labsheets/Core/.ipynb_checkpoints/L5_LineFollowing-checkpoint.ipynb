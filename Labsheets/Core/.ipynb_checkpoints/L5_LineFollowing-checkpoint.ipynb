{
 "cells": [
  {
   "cell_type": "markdown",
   "metadata": {
    "button": false,
    "run_control": {
     "read_only": false
    }
   },
   "source": [
    "# Lab 5: Line Following"
   ]
  },
  {
   "cell_type": "markdown",
   "metadata": {
    "button": false,
    "run_control": {
     "read_only": false
    }
   },
   "source": [
    "In previous lab sessions, you have:\n",
    "- Controlled the power of the two Romi motors with analogWrite()\n",
    "- Sensed how far  each wheel is moving by using the encoder counts.\n",
    "\n",
    "\n",
    "This labsheet will enable your Romi to follow a line on the floor.  The methods presented in this labsheet are basic, and more advanced techniques are discussed in later labsheets.  You may find that the methods of this labsheet are enough to secure up to 70% performance on the coursework assessment.\n",
    "\n",
    "In this lab, we will introduce the QTR-3A Reflectance Sensor Array and use it to develop a basic system which can follow lines.  This labsheet also introduces the concept of a `class` when writing code. \n",
    "\n",
    "From Blackboard, you should download the Lab folder. Inside this folder, you will find the following structure:\n",
    "\n",
    "    + Romi\n",
    "    --+Romi.ino\n",
    "    --+encoders.h\n",
    "    --+lineSensors.h\n",
    "    \n",
    "Each sensor array consists of three pairs of an Infra-red LED and Phototransistor, in the following circuit:"
   ]
  },
  {
   "cell_type": "markdown",
   "metadata": {
    "button": false,
    "run_control": {
     "read_only": false
    }
   },
   "source": [
    "<img src=\"LineFollowingArray.png\" height=600 width=600/>"
   ]
  },
  {
   "cell_type": "markdown",
   "metadata": {
    "button": false,
    "run_control": {
     "read_only": false
    }
   },
   "source": [
    "When the sensor is above a reflective surface (e.g. white piece of paper for example), the light from the IR LED will be reflected strongly, turning on the photo-transistor and pulling the output voltage towards ground. If, on the other hand, the sensor is above a low-reflective surface (black tape for example), the photo-transistor will mostly be turned off, and the output voltage will be pulled towards $V_{in}$(5V in our case). \n",
    "\n",
    "We can measure the voltage at the output by connecting the output signal to one of the Analog pins on the Romi control board. For more information about the QTR-3A, you can check [here](https://www.pololu.com/product/4443) or [here](https://www.pololu.com/docs/pdf/0J13/QTR_application_note.pdf). The difference in voltage between light and dark surfaces will depend on how far the sensor is from the surface.\n",
    "\n",
    "<img src=\"SensorOutput.png\" height=300 width=300/>\n",
    "QTR-3A output at a distance of 1/8th of an inch.\n",
    "\n",
    "<img src=\"SensorOutput_far.png\" height=300 width=300/>\n",
    "QTR-3A output at a distance of 3/8th of an inch."
   ]
  },
  {
   "cell_type": "markdown",
   "metadata": {},
   "source": [
    "<pre><br><br><br></pre>"
   ]
  },
  {
   "cell_type": "markdown",
   "metadata": {
    "button": false,
    "run_control": {
     "read_only": false
    }
   },
   "source": [
    "# Exercise 1: Connecting Up and Checking Your Sensor\n",
    "\n",
    "In this exercise, we will connect the sensor array to our Romi and begin calibrating the sensors. We would like to be able reliably detect whether a sensor is above a light or dark surface.  Because we are only looking to distinguish light **or** dark, it should be entirely possible to detect regardless of surface reflectance.   \n",
    "\n",
    "## Task 0:\n",
    "- Connect the sensor array to your Romi. You should connect the VCC pin to any of the 5 Volt pins on the Romi, the GND pin to any of the ground pins and pins labelled $1$, $3$, and $5$ to three analogPins on the Romi (I used A4, A3 and A2). \n",
    "- **Please take your time and make sure you do this correctly.**  Remember that when you flip the sensor over, the pins are in the reverse order.\n",
    "- **Leave CTRL disconnected.**\n",
    "\n",
    "<img src=QTR3A.jpg width=200 height=200/><img src=Sensor_Handout_Process.png width=800 height=800/>\n",
    "\n",
    "\n",
    "\n"
   ]
  },
  {
   "cell_type": "markdown",
   "metadata": {},
   "source": [
    "## Task 1:\n",
    "\n",
    "**For the moment, ignore the tab lineSensors.h**. Implement the following simple code in your loop():\n",
    "\n",
    "<pre>\n",
    "<font color=\"#434f54\">&#47;&#47; Remmeber, loop is called again and again.</font>\n",
    "<font color=\"#00979c\">void</font> <font color=\"#5e6d03\">loop</font><font color=\"#000000\">(</font><font color=\"#000000\">)</font> \n",
    "<font color=\"#000000\">{</font>\n",
    "\n",
    " &nbsp;<font color=\"#434f54\">&#47;&#47; To store result.</font>\n",
    " &nbsp;<font color=\"#00979c\">int</font> <font color=\"#000000\">l_value</font><font color=\"#000000\">;</font> <font color=\"#434f54\">&#47;&#47; left sensor</font>\n",
    " &nbsp;<font color=\"#00979c\">int</font> <font color=\"#000000\">c_value</font><font color=\"#000000\">;</font> <font color=\"#434f54\">&#47;&#47; centre sensor</font>\n",
    " &nbsp;<font color=\"#00979c\">int</font> <font color=\"#000000\">r_value</font><font color=\"#000000\">;</font> <font color=\"#434f54\">&#47;&#47; right sensor</font>\n",
    "\n",
    " &nbsp;<font color=\"#434f54\">&#47;&#47; Read analog voltages</font>\n",
    " &nbsp;<font color=\"#000000\">l_value</font> <font color=\"#434f54\">=</font> <font color=\"#d35400\">analogRead</font><font color=\"#000000\">(</font> <font color=\"#000000\">LINE_LEFT_PIN</font> <font color=\"#000000\">)</font><font color=\"#000000\">;</font>\n",
    " &nbsp;<font color=\"#000000\">c_value</font> <font color=\"#434f54\">=</font> <font color=\"#d35400\">analogRead</font><font color=\"#000000\">(</font> <font color=\"#000000\">LINE_CENTRE_PIN</font> <font color=\"#000000\">)</font><font color=\"#000000\">;</font>\n",
    " &nbsp;<font color=\"#000000\">r_value</font> <font color=\"#434f54\">=</font> <font color=\"#d35400\">analogRead</font><font color=\"#000000\">(</font> <font color=\"#000000\">LINE_RIGHT_PIN</font> <font color=\"#000000\">)</font><font color=\"#000000\">;</font>\n",
    "\n",
    " &nbsp;<font color=\"#434f54\">&#47;&#47; To send data back to your computer.</font>\n",
    " &nbsp;<font color=\"#434f54\">&#47;&#47; You can open either Serial monitor or plotter.</font>\n",
    " &nbsp;<b><font color=\"#d35400\">Serial</font></b><font color=\"#434f54\">.</font><font color=\"#d35400\">print</font><font color=\"#000000\">(</font> <font color=\"#000000\">l_value</font> <font color=\"#000000\">)</font><font color=\"#000000\">;</font>\n",
    " &nbsp;<b><font color=\"#d35400\">Serial</font></b><font color=\"#434f54\">.</font><font color=\"#d35400\">print</font><font color=\"#000000\">(</font> <font color=\"#005c5f\">&#34;, &#34;</font> <font color=\"#000000\">)</font><font color=\"#000000\">;</font>\n",
    " &nbsp;<b><font color=\"#d35400\">Serial</font></b><font color=\"#434f54\">.</font><font color=\"#d35400\">print</font><font color=\"#000000\">(</font> <font color=\"#000000\">c_value</font> <font color=\"#000000\">)</font><font color=\"#000000\">;</font>\n",
    " &nbsp;<b><font color=\"#d35400\">Serial</font></b><font color=\"#434f54\">.</font><font color=\"#d35400\">print</font><font color=\"#000000\">(</font> <font color=\"#005c5f\">&#34;, &#34;</font> <font color=\"#000000\">)</font><font color=\"#000000\">;</font>\n",
    " &nbsp;<b><font color=\"#d35400\">Serial</font></b><font color=\"#434f54\">.</font><font color=\"#d35400\">print</font><font color=\"#000000\">(</font> <font color=\"#000000\">r_value</font> <font color=\"#000000\">)</font><font color=\"#000000\">;</font>\n",
    " &nbsp;<b><font color=\"#d35400\">Serial</font></b><font color=\"#434f54\">.</font><font color=\"#d35400\">print</font><font color=\"#000000\">(</font> <font color=\"#005c5f\">&#34;\\n&#34;</font> <font color=\"#000000\">)</font><font color=\"#000000\">;</font>\n",
    "\n",
    " &nbsp;<font color=\"#d35400\">delay</font><font color=\"#000000\">(</font><font color=\"#000000\">50</font><font color=\"#000000\">)</font><font color=\"#000000\">;</font>\n",
    "<font color=\"#000000\">}</font>\n",
    "\n",
    "</pre>\n",
    "\n",
    "\n",
    "\n",
    "Vary the color of the background underneath the sensors and plot how the output changes.   \n",
    "- Does your left/centre/right description in code match the sensor readings from the hardware?\n",
    "    - Note which pin is connected to which sensor.  E.g., left-most sensor, A4.  Correct the `#define` statement at the top of the code if necessary, or change the wiring to your sensor.\n",
    "- Note the maximum and minimum values that you read. \n",
    "- Are the minimum and maximum values for left/centre/right the same?\n",
    "- Looking at your data, if you were going to decide whether the sensor was over black or white, what threshold value would you use?\n",
    "    - How could you determine this automatically, in code?\n",
    "\n",
    "\n",
    "\n"
   ]
  },
  {
   "cell_type": "markdown",
   "metadata": {},
   "source": [
    "<pre><br><br><br></pre>"
   ]
  },
  {
   "cell_type": "markdown",
   "metadata": {},
   "source": [
    "# Exercise 2: Building a Class"
   ]
  },
  {
   "cell_type": "markdown",
   "metadata": {},
   "source": [
    "A `class` is a way to group code together.  It helps to make writing code more efficient.  It also helps with the readability of code.  These two things together should make your code easier to debug.\n",
    "\n",
    "When a class is used, it is clear what variables are associated to which parts of a program.  A class is usually written to provide it's own set of functions.  In general, when a class is used, it will help to prevent a huge number of variables and functions cluttering up the main part of your program.  When a class is created well it can be used multiple times, providing 'copies' of the same code for different problems.  You can almost think of a class as a \"mini-program\", however you must make calls to it and control its execution from your main program.\n",
    "\n",
    "A class in Arduino has the following basic structure which is mandatory:\n",
    "\n",
    "<pre>\n",
    "\n",
    "<font color=\"#00979c\">class</font> <font color=\"#000000\">myClassName</font> <font color=\"#000000\">{</font> &nbsp;&nbsp;&nbsp;&nbsp;<font color=\"#434f54\">&#47;&#47; This encapsulates (contains) your class, and sets the class-name.</font>\n",
    " &nbsp;\n",
    " &nbsp;<font color=\"#000000\">myClassName</font><font color=\"#000000\">(</font><font color=\"#000000\">)</font> <font color=\"#000000\">{</font> &nbsp;&nbsp;&nbsp;&nbsp;&nbsp;&nbsp;<font color=\"#434f54\">&#47;&#47;  The constructor function has the same name, works like setup().</font>\n",
    "\n",
    " &nbsp;<font color=\"#000000\">}</font><br>\n",
    "<font color=\"#000000\">};</font>  &nbsp;&nbsp;&nbsp;&nbsp;<font color=\"#434f54\">&#47;&#47; The end of the class encapsulation.</font>\n",
    "\n",
    "</pre>\n",
    "\n",
    "It is important that you consider the above to provide a template for the class.  In your main code, you can create multiple copies of this class.  For example:\n",
    "\n",
    "<pre>\n",
    "<font color=\"#000000\">myClassName</font> <font color=\"#000000\">copy1</font><font color=\"#000000\">;</font>\n",
    "<font color=\"#000000\">myClassName</font> <font color=\"#000000\">copy2</font><font color=\"#000000\">;</font>\n",
    "<font color=\"#000000\">myClassName</font> <font color=\"#000000\">copy3</font><font color=\"#000000\">;</font>\n",
    "\n",
    "<font color=\"#00979c\">void</font> <font color=\"#5e6d03\">setup</font><font color=\"#000000\">(</font><font color=\"#000000\">)</font> <font color=\"#000000\">{</font>\n",
    "\n",
    "<font color=\"#000000\">}</font>\n",
    "\n",
    "<font color=\"#00979c\">void</font> <font color=\"#5e6d03\">loop</font><font color=\"#000000\">(</font><font color=\"#000000\">)</font> <font color=\"#000000\">{</font>\n",
    "\n",
    "<font color=\"#000000\">}</font>\n",
    "\n",
    "</pre>\n",
    "\n",
    "Notice in the above, that `copy1` `copy2` and `copy3` all share `myClassName` as a type.  Recall that, when we write:\n",
    "<pre>\n",
    "<font color=\"#00979c\">int</font> <font color=\"#000000\">my_int</font><font color=\"#000000\">;</font>\n",
    "</pre>\n",
    "\n",
    "We are telling the arduino to create a space in memory to store an integer number.  `int` is the type, and `my_int` is the name we have decided to use to access the space created.   \n",
    "\n",
    "Using classes follows the same format.  We are asking the Arduino to create a space in memory to store all of the code contained within our class (`myClassName`), and that we wish to access it via the names `copy1`, `copy2` and `copy3`.  Because we are giving them 3 different names, we are creating 3 different spaces each with the same format.\n",
    "\n",
    "Within a class, we can store variables and write functions which will only exist for an individual copy of the class.  For example:\n",
    "\n",
    "<pre>\n",
    "<font color=\"#00979c\">class</font> <font color=\"#000000\">myClassName</font> <font color=\"#000000\">{</font> &nbsp;&nbsp;&nbsp;&nbsp;<font color=\"#434f54\">&#47;&#47; This encapsulates (contains) your class, and sets the name.</font>\n",
    "\n",
    " &nbsp;<font color=\"#434f54\">&#47;&#47; Variables.</font>\n",
    " &nbsp;<font color=\"#00979c\">int</font> &nbsp;&nbsp;<font color=\"#000000\">an_int</font><font color=\"#000000\">;</font> &nbsp;&nbsp;&nbsp;&nbsp;&nbsp;&nbsp;&nbsp;&nbsp;&nbsp;&nbsp;<font color=\"#434f54\">&#47;&#47; Lets keep an integer</font>\n",
    " &nbsp;<font color=\"#00979c\">float</font> <font color=\"#000000\">a_float</font><font color=\"#000000\">;</font> &nbsp;&nbsp;&nbsp;&nbsp;&nbsp;&nbsp;&nbsp;&nbsp;&nbsp;<font color=\"#434f54\">&#47;&#47; and a float.</font>\n",
    "\n",
    " &nbsp;<font color=\"#434f54\">&#47;&#47; Functions.</font>\n",
    " &nbsp;<font color=\"#00979c\">float</font> <font color=\"#000000\">returnMyFloat</font><font color=\"#000000\">(</font><font color=\"#000000\">)</font><font color=\"#000000\">;</font> &nbsp;<font color=\"#434f54\">&#47;&#47; A function to report a_float.</font>\n",
    " &nbsp;<font color=\"#00979c\">int</font> <font color=\"#000000\">returnMyInt</font><font color=\"#000000\">(</font><font color=\"#000000\">)</font><font color=\"#000000\">;</font> &nbsp;&nbsp;&nbsp;<font color=\"#434f54\">&#47;&#47; a function to report an_int.</font>\n",
    " &nbsp;\n",
    " &nbsp;<font color=\"#000000\">myClassName</font><font color=\"#000000\">(</font><font color=\"#000000\">)</font> <font color=\"#000000\">{</font> &nbsp;&nbsp;&nbsp;&nbsp;&nbsp;&nbsp;<font color=\"#434f54\">&#47;&#47; The constructor function has the same name, works like setup().</font>\n",
    "\n",
    " &nbsp;&nbsp;&nbsp;&nbsp;<font color=\"#434f54\">&#47;&#47; Similar to setup(), we initialisev variables.</font>\n",
    " &nbsp;&nbsp;&nbsp;&nbsp;<font color=\"#000000\">an_int</font> &nbsp;<font color=\"#434f54\">=</font> <font color=\"#000000\">0</font><font color=\"#000000\">;</font>\n",
    " &nbsp;&nbsp;&nbsp;&nbsp;<font color=\"#000000\">a_float</font> <font color=\"#434f54\">=</font> <font color=\"#000000\">0</font><font color=\"#000000\">;</font>\n",
    "\n",
    " &nbsp;<font color=\"#000000\">}</font>\n",
    "\n",
    "<font color=\"#000000\">}</font><font color=\"#000000\">;</font>\n",
    "\n",
    "<font color=\"#434f54\">&#47;&#47; A function belonging to myClassName</font>\n",
    "<font color=\"#00979c\">float</font> <font color=\"#000000\">myClassName</font><font color=\"#434f54\">:</font><font color=\"#434f54\">:</font><font color=\"#000000\">returnMyFloat</font><font color=\"#000000\">(</font><font color=\"#000000\">)</font> <font color=\"#000000\">{</font>\n",
    " &nbsp;<font color=\"#5e6d03\">return</font> <font color=\"#000000\">a_float</font><font color=\"#000000\">;</font>\n",
    "<font color=\"#000000\">}</font>\n",
    "\n",
    "<font color=\"#434f54\">&#47;&#47; A function belonging to myClassName</font>\n",
    "<font color=\"#00979c\">int</font> <font color=\"#000000\">myClassName</font><font color=\"#434f54\">:</font><font color=\"#434f54\">:</font><font color=\"#000000\">returnMyInt</font><font color=\"#000000\">(</font><font color=\"#000000\">)</font> <font color=\"#000000\">{</font>\n",
    " &nbsp;<font color=\"#5e6d03\">return</font> <font color=\"#000000\">an_int</font><font color=\"#000000\">;</font>\n",
    "<font color=\"#000000\">}</font>\n",
    "\n",
    "</pre>\n",
    "\n",
    "Note in the above that, the variables and functions are declared within the class - all the data is kept inside the class encapsulation, the template we are creating.  \n",
    "\n",
    "We have written the functions outside of the class, using the syntax `myClassName::returnMyFloat() { `.  The functions you write outside the class must be prefixed with the name of the class in this way, and the function name must match the declaration set within the class. \n",
    "\n",
    "Once we have defined a class in this way, we can use it very easily from our main program.  For example:\n",
    "\n",
    "<pre>\n",
    "<font color=\"#000000\">MyClassName</font> <font color=\"#000000\">copy1</font><font color=\"#000000\">;</font>\n",
    "<font color=\"#000000\">MyClassName</font> <font color=\"#000000\">copy2</font><font color=\"#000000\">;</font>\n",
    "<font color=\"#000000\">MyClassName</font> <font color=\"#000000\">copy3</font><font color=\"#000000\">;</font>\n",
    "\n",
    "<font color=\"#00979c\">void</font> <font color=\"#5e6d03\">setup</font><font color=\"#000000\">(</font><font color=\"#000000\">)</font> <font color=\"#000000\">{</font>\n",
    " &nbsp;<font color=\"#000000\">copy1</font><font color=\"#434f54\">.</font><font color=\"#000000\">an_int</font> <font color=\"#434f54\">=</font> <font color=\"#000000\">10</font><font color=\"#000000\">;</font> &nbsp;&nbsp;<font color=\"#434f54\">&#47;&#47; Perform a write to the variable within copy1.</font>\n",
    " &nbsp;<font color=\"#000000\">copy2</font><font color=\"#434f54\">.</font><font color=\"#000000\">a_float</font> <font color=\"#434f54\">=</font> <font color=\"#000000\">0.6</font><font color=\"#000000\">;</font> <font color=\"#434f54\">&#47;&#47; Perform a write to the variable within copy2.</font>\n",
    "<font color=\"#000000\">}</font>\n",
    "\n",
    "<font color=\"#00979c\">void</font> <font color=\"#5e6d03\">loop</font><font color=\"#000000\">(</font><font color=\"#000000\">)</font> <font color=\"#000000\">{</font>\n",
    "\n",
    " &nbsp;<font color=\"#000000\">copy1</font><font color=\"#434f54\">.</font><font color=\"#000000\">an_int</font> <font color=\"#434f54\">=</font> <font color=\"#000000\">20</font><font color=\"#000000\">;</font> &nbsp;&nbsp;&nbsp;&nbsp;&nbsp;<font color=\"#434f54\">&#47;&#47; A write operation to the variable inside copy1.</font>\n",
    " &nbsp;<font color=\"#000000\">copy1</font><font color=\"#434f54\">.</font><font color=\"#000000\">returnMyInt</font><font color=\"#000000\">(</font><font color=\"#000000\">)</font><font color=\"#000000\">;</font> &nbsp;&nbsp;&nbsp;<font color=\"#434f54\">&#47;&#47; A function call working from within copy1</font>\n",
    " &nbsp;<font color=\"#000000\">copy2</font><font color=\"#434f54\">.</font><font color=\"#000000\">returnMyFloat</font><font color=\"#000000\">(</font><font color=\"#000000\">)</font><font color=\"#000000\">;</font> &nbsp;<font color=\"#434f54\">&#47;&#47; A function call working from within copy2</font>\n",
    " &nbsp;\n",
    "<font color=\"#000000\">}</font>\n",
    "\n",
    "</pre>\n",
    "\n",
    "Notice that, every time we are using the class, we use the name we decided to call our class instance  (`copy1`, `copy2` or `copy3`) and a `.` (dot).  \n",
    "\n",
    "\n",
    "If we are accessing a variable inside a class, we use the name of the variable following the dot, like:\n",
    "\n",
    "<pre>\n",
    "\n",
    " &nbsp;<font color=\"#000000\">copy1</font><font color=\"#434f54\">.</font><font color=\"#000000\">an_int</font> <font color=\"#434f54\">=</font> <font color=\"#000000\">20</font><font color=\"#000000\">;</font> &nbsp;&nbsp;&nbsp;&nbsp;&nbsp;<font color=\"#434f54\">&#47;&#47; A write operation to the variable inside copy1.</font>\n",
    " &nbsp;<font color=\"#00979c\">int</font> <font color=\"#000000\">a</font> <font color=\"#434f54\">=</font> <font color=\"#000000\">copy1</font><font color=\"#434f54\">.</font><font color=\"#000000\">an_int</font><font color=\"#000000\">;</font> &nbsp;&nbsp;<font color=\"#434f54\">&#47;&#47; A read operation from the variable inside copy1.</font>\n",
    "\n",
    "</pre>\n",
    "\n",
    "If we are calling a function inside a class, we use the name of the function after the dot, like:  \n",
    "\n",
    "<pre>\n",
    " &nbsp;<font color=\"#000000\">copy1</font><font color=\"#434f54\">.</font><font color=\"#000000\">returnMyInt</font><font color=\"#000000\">(</font><font color=\"#000000\">)</font><font color=\"#000000\">;</font> &nbsp;&nbsp;&nbsp;<font color=\"#434f54\">&#47;&#47; A function call working from within copy1</font>\n",
    " &nbsp;<font color=\"#000000\">copy2</font><font color=\"#434f54\">.</font><font color=\"#000000\">returnMyFloat</font><font color=\"#000000\">(</font><font color=\"#000000\">)</font><font color=\"#000000\">;</font> &nbsp;<font color=\"#434f54\">&#47;&#47; A function call working from within copy2</font>\n",
    "\n",
    "</pre>\n",
    "\n",
    "\n",
    "Functions within a class can also take arguments (variables passed into the function).  If you look at the lineSensor.h class from the code provided, you'll see that the class `LineSensor` has the constructor:\n",
    "\n",
    "<pre>\n",
    " &nbsp;&nbsp;&nbsp;<font color=\"#434f54\">&#47;&#47; Required function, class Constructor: </font>\n",
    " &nbsp;&nbsp;&nbsp;<font color=\"#434f54\">&#47;&#47; Saves the pin passed in as argument and sets to input</font>\n",
    " &nbsp;&nbsp;&nbsp;<font color=\"#000000\">LineSensor</font><font color=\"#000000\">(</font><font color=\"#00979c\">int</font> <font color=\"#000000\">line_pin</font><font color=\"#000000\">)</font> <font color=\"#000000\">{</font>\n",
    " &nbsp;&nbsp;&nbsp;&nbsp;&nbsp;<font color=\"#000000\">pin</font> <font color=\"#434f54\">=</font> <font color=\"#000000\">line_pin</font><font color=\"#000000\">;</font>\n",
    " &nbsp;&nbsp;&nbsp;&nbsp;&nbsp;<font color=\"#d35400\">pinMode</font><font color=\"#000000\">(</font><font color=\"#000000\">pin</font><font color=\"#434f54\">,</font> <font color=\"#00979c\">INPUT</font><font color=\"#000000\">)</font><font color=\"#000000\">;</font>\n",
    " &nbsp;&nbsp;&nbsp;<font color=\"#000000\">}</font>\n",
    "\n",
    "</pre>\n",
    "\n",
    "Here, `pin` is a variable declared within the class.  We are assigning `line_pin` into pin, meaning that the class will store (e.g. remember) which pin you told it to work from.  The next line sets the pin mode, because we are using this class to operate one of the sensors attached to either A2,A3 or A4.  \n",
    "\n",
    "If you look at the top of the main program (Romi) you should see:\n",
    "\n",
    "<pre>\n",
    "<font color=\"#434f54\">&#47;&#47; You may need to change these depending on how you wire</font>\n",
    "<font color=\"#434f54\">&#47;&#47; in your line sensor.</font>\n",
    "<font color=\"#5e6d03\">#define</font> <font color=\"#000000\">LINE_LEFT_PIN</font> <font color=\"#000000\">A4</font> <font color=\"#434f54\">&#47;&#47;Pin for the left line sensor</font>\n",
    "<font color=\"#5e6d03\">#define</font> <font color=\"#000000\">LINE_CENTRE_PIN</font> <font color=\"#000000\">A3</font> <font color=\"#434f54\">&#47;&#47;Pin for the centre line sensor</font>\n",
    "<font color=\"#5e6d03\">#define</font> <font color=\"#000000\">LINE_RIGHT_PIN</font> <font color=\"#000000\">A2</font> <font color=\"#434f54\">&#47;&#47;Pin for the right line sensor</font>\n",
    "\n",
    "<font color=\"#000000\">LineSensor</font> <font color=\"#000000\">line_left</font><font color=\"#000000\">(</font><font color=\"#000000\">LINE_LEFT_PIN</font><font color=\"#000000\">)</font><font color=\"#000000\">;</font> <font color=\"#434f54\">&#47;&#47;Create a line sensor object for the left sensor</font>\n",
    "<font color=\"#000000\">LineSensor</font> <font color=\"#000000\">line_centre</font><font color=\"#000000\">(</font><font color=\"#000000\">LINE_CENTRE_PIN</font><font color=\"#000000\">)</font><font color=\"#000000\">;</font> <font color=\"#434f54\">&#47;&#47;Create a line sensor object for the centre sensor</font>\n",
    "<font color=\"#000000\">LineSensor</font> <font color=\"#000000\">line_right</font><font color=\"#000000\">(</font><font color=\"#000000\">LINE_RIGHT_PIN</font><font color=\"#000000\">)</font><font color=\"#000000\">;</font> <font color=\"#434f54\">&#47;&#47;Create a line sensor object for the right sensor</font>\n",
    "\n",
    "</pre>\n",
    "\n",
    "Here, we are creating 3 copies of the LineSensor class, named `line_left`, `line_centre` and `line_right` respectively.  When we create these class instances, we also have to pass in the pin - because it is defined this way in the constructor written within LineSensor.h.  We use a `#define` statement to make changing these values quiker and more readable.  Whilst the class template is the same, each of these class instances will now work from a different pin.\n",
    "\n",
    "When you build up the class, you will make calls to these class instances.  For example, within your setup(), you will need to do something like:\n",
    "\n",
    "<pre>\n",
    "\n",
    " &nbsp;<font color=\"#434f54\">&#47;&#47; Calibrate the three line sensors.</font>\n",
    " &nbsp;<font color=\"#000000\">line_left</font><font color=\"#434f54\">.</font><font color=\"#000000\">calibrate</font><font color=\"#000000\">(</font><font color=\"#000000\">)</font><font color=\"#000000\">;</font>\n",
    " &nbsp;<font color=\"#000000\">line_centre</font><font color=\"#434f54\">.</font><font color=\"#000000\">calibrate</font><font color=\"#000000\">(</font><font color=\"#000000\">)</font><font color=\"#434f54\">:</font>\n",
    " &nbsp;<font color=\"#000000\">line_right</font><font color=\"#434f54\">.</font><font color=\"#000000\">calibrate</font><font color=\"#000000\">(</font><font color=\"#000000\">)</font><font color=\"#000000\">;</font>\n",
    "\n",
    "</pre>\n"
   ]
  },
  {
   "cell_type": "markdown",
   "metadata": {},
   "source": [
    "\n",
    "    \n",
    "## Task 2:\n",
    "- Write a calibration routine for the IR sensor.  Your calibration routine should compensate for any bias in each sensor signal.  The simplest way to do this is to take a number of readings  (e.g. 50) and store the average value in a variable. When we then take later readings, we can subtract this bias from our reading. \n",
    "\n",
    "    - **Hint:** Be careful of variable over flow.  If you store something like 100 sensor readings into a integer it may overflow.\n",
    "\n",
    "    - **Hint:** Be careful of type conversion. If you store sensor readings into an int, a division operator or multiplication by a fraction may return 0.\n",
    "    - **Hint:** In order for our calibration routine to run correctly, the Romi should remain stay with all sensors on a white surface. It's a good idea to add a beep to the end of your calibration routine so you know it is complete.\n",
    " \n",
    " \n",
    "\n",
    "- Write the readCalibrated() function to return a sensor reading with the bias subtracted.\n"
   ]
  },
  {
   "cell_type": "markdown",
   "metadata": {},
   "source": [
    "<pre><br><br><br></pre>"
   ]
  },
  {
   "cell_type": "markdown",
   "metadata": {
    "button": false,
    "run_control": {
     "read_only": false
    }
   },
   "source": [
    "# Exercise 2: Bang-Bang controller\n",
    "\n",
    "In this exercise, we will implement a simple Bang-Bang controller to follow a line. A Bang-Bang controller selects from a limited range of control outputs (Usually two, but in this case three). The control logic is as follows:\n",
    "\n",
    "- Line under sensor 1 -> Turn Right\n",
    "- Line under sensor 2 -> Go Straight\n",
    "- Line under sensor 3 -> Turn left\n",
    "\n",
    "The output from an individual reflectance sensor will be a voltage between 0 and $V_{in}$. This will be read by the Analog to Digital Converter (ADC) in the Romi's Atmel 32u4 and converted to an integer between 0 and 1023. We must convert these numbers into something which is meaningful to us. The simplest way to do this is to convert the output to a binary signal (telling us whether a particular sensor is over a line or not) by applying a threshold. \n",
    "\n",
    "## Task 1:\n",
    "Determine an appropriate threshold for this signal. Start by repeatedly printing the (calibrated) value of the sensor and see how it changes as you move the sensor on and off a line. Adapt your code to print to the Serial port whenever a sensor is over a line. \n",
    "\n",
    "## Task 2:\n",
    "Repeat this process for the other two sensors. Your system should now print whenever a sensor believes it is over a line. Briefly evaluate the performance of your solution. Consider what an appropriate metric for evaluating this system would be and then use this to perform your evaluation. \n",
    "\n",
    "**Hint:** You could start by simply testing the error rate as you move your robot across a line. You could also consider the false positive and false negative rates, and see how changing the threshold effects these rates.\n",
    "\n",
    "## Task 3:\n",
    "Write a function \"BangBang()\" which implements the Bang-bang controller. You will need if() statements to decide how to move your motors given which sensor threshold is crossed.  This function should be called repeatedly by the main loop - try to avoid using blocking calls.\n",
    "\n",
    "**Hint:** You will need to make a few decisions when implementing this approach. You will need a threshold for evaluating which sensor the line is under, and also decide appropriate motor power values for forward and turning. You will also need to consider what your controller should do if it detects a line under multiple sensors (or even none).\n",
    "\n",
    "**Hint:** In terms of behaviour, how could the following two pieces of code differ?  Think especially in terms of unwanted behaviour concerning the final value of the variable **a**.  \n",
    "\n",
    "<pre>\n",
    "<font color=\"#95a5a6\">&#47;* Example 1 *&#47;</font>\n",
    "\n",
    "<font color=\"#00979c\">int</font> <font color=\"#000000\">a</font> <font color=\"#434f54\">=</font> <font color=\"#000000\">0</font><font color=\"#000000\">;</font>\n",
    "<font color=\"#5e6d03\">if</font><font color=\"#000000\">(</font> <font color=\"#000000\">condition1</font> <font color=\"#434f54\">==</font> <font color=\"#00979c\">true</font> <font color=\"#000000\">)</font> <font color=\"#000000\">{</font>\n",
    " &nbsp;<font color=\"#000000\">a</font> <font color=\"#434f54\">=</font> <font color=\"#000000\">1</font><font color=\"#000000\">;</font>\n",
    "<font color=\"#000000\">}</font> \n",
    "<font color=\"#5e6d03\">if</font><font color=\"#000000\">(</font> <font color=\"#000000\">condition2</font> <font color=\"#434f54\">==</font> <font color=\"#00979c\">true</font> <font color=\"#000000\">)</font> <font color=\"#000000\">{</font>\n",
    " &nbsp;<font color=\"#000000\">a</font> <font color=\"#434f54\">=</font> <font color=\"#000000\">2</font><font color=\"#000000\">;</font>\n",
    "<font color=\"#000000\">}</font>\n",
    "<font color=\"#5e6d03\">if</font><font color=\"#000000\">(</font> <font color=\"#000000\">condition3</font> <font color=\"#434f54\">==</font> <font color=\"#00979c\">true</font> <font color=\"#000000\">)</font> <font color=\"#000000\">{</font>\n",
    " &nbsp;<font color=\"#000000\">a</font> <font color=\"#434f54\">=</font> <font color=\"#000000\">3</font><font color=\"#000000\">;</font>\n",
    "<font color=\"#000000\">}</font>\n",
    "\n",
    "\n",
    "<font color=\"#95a5a6\">&#47;* Example 2 *&#47;</font>\n",
    "\n",
    "<font color=\"#00979c\">int</font> <font color=\"#000000\">a</font> <font color=\"#434f54\">=</font> <font color=\"#000000\">0</font><font color=\"#000000\">;</font>\n",
    "<font color=\"#5e6d03\">if</font><font color=\"#000000\">(</font> <font color=\"#000000\">condition1</font> <font color=\"#434f54\">==</font> <font color=\"#00979c\">true</font> <font color=\"#000000\">)</font> <font color=\"#000000\">{</font>\n",
    " &nbsp;<font color=\"#000000\">a</font> <font color=\"#434f54\">=</font> <font color=\"#000000\">1</font><font color=\"#000000\">;</font>\n",
    "<font color=\"#000000\">}</font> <font color=\"#5e6d03\">else</font> <font color=\"#5e6d03\">if</font><font color=\"#000000\">(</font> <font color=\"#000000\">condition2</font> <font color=\"#434f54\">==</font> <font color=\"#00979c\">true</font> <font color=\"#000000\">)</font> <font color=\"#000000\">{</font>\n",
    " &nbsp;<font color=\"#000000\">a</font> <font color=\"#434f54\">=</font> <font color=\"#000000\">2</font><font color=\"#000000\">;</font>\n",
    "<font color=\"#000000\">}</font> <font color=\"#5e6d03\">else</font> <font color=\"#5e6d03\">if</font><font color=\"#000000\">(</font> <font color=\"#000000\">condition3</font> <font color=\"#434f54\">==</font> <font color=\"#00979c\">true</font> <font color=\"#000000\">)</font> <font color=\"#000000\">{</font>\n",
    " &nbsp;<font color=\"#000000\">a</font> <font color=\"#434f54\">=</font> <font color=\"#000000\">3</font><font color=\"#000000\">;</font>\n",
    "<font color=\"#000000\">}</font> <font color=\"#5e6d03\">else</font> <font color=\"#000000\">{</font>\n",
    " &nbsp;\n",
    "<font color=\"#000000\">}</font>\n",
    "\n",
    "</pre>\n",
    "\n",
    "## Task 4:\n",
    "Evaluate the performance of the controller. Use a range of lines to test performance. \n",
    "- What sort of lines does it struggle with? \n",
    "- What could be good metrics for measuring line following performance? \n",
    "- How does the performance vary as you alter the parameters discussed above?"
   ]
  },
  {
   "cell_type": "markdown",
   "metadata": {
    "button": false,
    "run_control": {
     "read_only": false
    }
   },
   "source": [
    "# Exercise 3: Weighted Line Sensing\n",
    "\n",
    "The simple thresholding method we used in Exercise 2 has a big drawback; it is very sensitive to our choice of where we put the threshold. A more elegant approach is to think of the output of each sensor as a likelihood that the sensor is over a line. We can then use these likelihoods to calculate a most probable location for the line (relative to the sensor).\n",
    "\n",
    "<img src=LineCentering.png width=\"50%\"/>\n",
    "\n",
    "<pre>\n",
    "&nbsp;\n",
    "</pre>"
   ]
  },
  {
   "cell_type": "markdown",
   "metadata": {
    "button": false,
    "run_control": {
     "read_only": false
    }
   },
   "source": [
    "\n",
    "\n",
    "One method to get the desired measurement is to:\n",
    "\n",
    "\n",
    "1) Calculate the total magnitude of the calibrated sensor readings: $I_{total} = I_{left} + I_{centre} + I_{right}$\n",
    "\n",
    "2) Calculate each sensor reading as proportional to the total: $$P_i = \\frac{I_{i}}{I_{total}}$$ where $$i = [ left, centre, right]$$\n",
    "\n",
    "3) Calculate the final output Measurement as $$M = ( P_{left} - P_{right} )$$\n",
    "\n",
    "\n",
    "\n",
    "You can evaluate this method quickly with some made up values in Excel.  Remember that each sensor will return a whole number value between [ 0 : 1023 ].  \n",
    "\n",
    "\n",
    "\n",
    "## Task 1:\n",
    "Write code for your Romi to perform the above calculations from its line sensor readings.  \n",
    "- Print the output over Serial and verify it is correct by moving the Romi by hand.  \n",
    "- Check to see if the Measurement values towards -1 occur when the line moves to the left, and towards +1 when the line moves to the right.  You could reverse this left/right relationship if you wish.  \n",
    "- Check that you receive values tending towards 0 when the line is centred under the sensor.\n",
    "\n",
    "**Hint**: analogRead() returns a value of the type `int`.  We know that an `int` cannot store a fraction (e.g. 0.00512).  If analogRead(A2) returns 500, what value will be stored in the variable `result`?  Why?\n",
    "\n",
    "<pre>\n",
    "<font color=\"#00979c\">float</font> <font color=\"#000000\">result</font> <font color=\"#434f54\">=</font> <font color=\"#d35400\">analogRead</font><font color=\"#000000\">(</font><font color=\"#000000\">A2</font><font color=\"#000000\">)</font> <font color=\"#434f54\">&#47;</font> <font color=\"#000000\">1000</font><font color=\"#000000\">;</font>\n",
    "\n",
    "</pre>\n",
    "\n",
    "**Hint:** You will spend less time debugging your code if you break the above calculation down into many individual steps.  Always make sure you store values into the appropriate `variable type` before you conduct arithmatic.  \n"
   ]
  },
  {
   "cell_type": "markdown",
   "metadata": {
    "button": false,
    "run_control": {
     "read_only": false
    }
   },
   "source": [
    "## Task 2:\n",
    "Update your BangBang() function to utilist your new Line Measurement value.\n",
    "- Note that, when your line measurement equals 0, you must instruct your Romi to drive fowards.\n",
    "\n",
    "## Task 3:\n",
    "Our Line Measurement (`M`) is a value between [-1 : +1 ].  We can use this value to scale the power of the left and right motor.  This would have the effect of providing a proportional response of power in relation to how strong the value of the Measurement is.  Simply put:\n",
    "\n",
    "$$Power_{max} = 100$$\n",
    "$$Power_{left} = M * Power_{max} * +1$$\n",
    "$$Power_{right} = M * Power_{max} * -1$$\n",
    "\n",
    "Using the above equation, if our measurement was 0.67:\n",
    "\n",
    "$$Power_{left} = 67$$  \n",
    "$$Power_{right} = -67$$\n",
    "\n",
    "- Save a copy of your BangBang() code.  Now write a new function that implements the above method.  Give your new function a name that makes sense to you.\n",
    "- Note that, the maximum power of 100 is given just as an example.  \n",
    "- We multiply the left by the +1 constant, and the right by a -1 constant - why is this?\n",
    "- Implement this code for your Romi.  Check that the turning direction is correct.  Fix it if not.\n",
    "- With this solution, what happens when your Romi is centred on the line?  How can you bias the solution to always move forwards?\n",
    "\n",
    "**Hint**: Remember that `analogWrite()` only operates properly with a whole number value between [ 0 : 255 ].  If you have a motor power which is negative, you will need to change the direction pin of your motor, and send the absolute (non-signed) value  of the motor power to analogWrite().  \n",
    "\n",
    "\n",
    "## Task 4:\n",
    "Investigate the effect of a forward bias on your solution. See how fast you can get your robot to follow the line before it becomes unreliable.\n",
    "- How does a forward bias effect the ability of your robot to detect and take corners?\n",
    "- How might you increase or decrease the turning relative to forward speed of the robot?\n",
    "- How could you present a metric of the reliability of your solution to follow the line?\n",
    "\n",
    "## Task 5:\n",
    "Create a closed loop circuit (a circle or oblong) and race a classmate. Start the robots at opposite sides of the loop; a robot wins the race by catching the up to the behind of its opponent."
   ]
  },
  {
   "cell_type": "markdown",
   "metadata": {
    "button": false,
    "run_control": {
     "read_only": false
    }
   },
   "source": [
    "# Exercise 4: Joining a Line\n",
    "\n",
    "We can now use our reflectance array to follow lines. However, this controller only works when our robot starts positioned on a line. We can also use the information from the sensor to ask whether we are on a line or not. The simplest way to do this is to check to see whether any of the sensor readings are above a threshold value. If you can get your robot to join the line, you should be ready to make an attempt at the assessment.  \n",
    "\n",
    "## Task 1:\n",
    "Write a simple \"Move straight\" behaviour which commands the Romi to move forward in a straight line. Now add code which plays a tone whenever the Romi crosses a line. \n",
    "\n",
    "**Hint:** The simplest way to switch behaviour is to use an IF/ELSE statement and a flag which represents whether you are on the line or not. You will need to implemement your own checkForLine() function which updates the value of the flag based on the sensor data\n"
   ]
  },
  {
   "cell_type": "markdown",
   "metadata": {
    "button": false,
    "run_control": {
     "read_only": false
    }
   },
   "source": [
    "<pre>\n",
    "<font color=\"#00979c\">bool</font> <font color=\"#000000\">onLine</font><font color=\"#000000\">;</font>\n",
    "\n",
    "<font color=\"#000000\">onLine</font> <font color=\"#434f54\">=</font> <font color=\"#000000\">checkForLine</font><font color=\"#000000\">(</font><font color=\"#000000\">)</font><font color=\"#000000\">;</font>\n",
    "<font color=\"#5e6d03\">if</font> <font color=\"#000000\">(</font><font color=\"#000000\">onLine</font><font color=\"#000000\">)</font>\n",
    "<font color=\"#000000\">{</font>\n",
    " &nbsp;&nbsp;&nbsp;<font color=\"#434f54\">.</font><font color=\"#434f54\">.</font><font color=\"#434f54\">.</font><font color=\"#000000\">Make</font> <font color=\"#000000\">a</font> <font color=\"#000000\">sound</font><font color=\"#434f54\">.</font><font color=\"#434f54\">.</font><font color=\"#434f54\">.</font>\n",
    "<font color=\"#000000\">}</font>\n",
    "<font color=\"#5e6d03\">else</font>\n",
    "<font color=\"#000000\">{</font>\n",
    " &nbsp;&nbsp;&nbsp;<font color=\"#434f54\">.</font><font color=\"#434f54\">.</font><font color=\"#434f54\">.</font><font color=\"#000000\">Move</font> <font color=\"#000000\">straight</font><font color=\"#434f54\">.</font><font color=\"#434f54\">.</font><font color=\"#434f54\">.</font>\n",
    "<font color=\"#000000\">}</font>\n",
    "\n",
    "</pre>"
   ]
  },
  {
   "cell_type": "markdown",
   "metadata": {
    "button": false,
    "collapsed": true,
    "run_control": {
     "read_only": false
    }
   },
   "source": [
    "## Task 2:\n",
    "Now add a behaviour which switches between line following (When the Romi believes it is on a line) and moving in a straight line (When the Romi does not believe it is on a line), or even a mixture of straight line movement and random turns.\n",
    "\n",
    "\n",
    "\n",
    "\n",
    "\n",
    "## Task 3:\n",
    "\n",
    "In the probabilistic robotics lecture, we discussed a problem with simply using a threshold for line detection: when we use a threshold like this, we are only using information from the current timestep. \n",
    "\n",
    "A better approach is to use a confidence value which represents the likelihood that we are on a line. The logic for a confidence value works as follows:\n",
    "\n",
    "- whilst on the line, confidence increases.\n",
    "- when off the line, confidence decreases.\n",
    "\n",
    "By following this basic premise, our confidence will go up and down over time.  This is opposed to simply taking an instantaneous reading of whether the robot is on or off a line.  Therefore, choosing how much to increase and decrease confidence will change how much of the prior performance of the robot will influence the robot behaviour.  Intuitively, we are making the assumption that if we have been on the line in the past, then it is likely that we are still on the line, even if our sensor reading says we are not.  \n",
    "\n",
    "- Adapt your solution to task 2 to use a confidence value instead of a threshold. You will need to make some design decisions to achieve this. How much should I increase the confidence value by when I am on the line? How much should I decrease it by when I am off the line? How should I set the thresholds? \n",
    "\n",
    "**Hint:** You could start by having fixed additive (+ some amount to confidence) or multiplicitive ( multiply confidence by some amount) changes to confidence. Is there another source of information you could use to make this more adaptive? \n",
    "\n",
    "## Task 4: \n",
    "Integrate the confidence value into your Line following behaviour. Start your robot on the line, and have it beep when it thinks it has got to the end.\n",
    "\n",
    "**Hint:** Could you use the information in the confidence value to adapt the parameters of your line following behaviour?\n",
    "\n",
    "## Task 5: \n",
    "Repeat the closed circuit race against a peer with your updated solution - You should be able to race on a much more challenging course now."
   ]
  },
  {
   "cell_type": "code",
   "execution_count": null,
   "metadata": {},
   "outputs": [],
   "source": []
  }
 ],
 "metadata": {
  "kernelspec": {
   "display_name": "Python 3",
   "language": "python",
   "name": "python3"
  },
  "language_info": {
   "codemirror_mode": {
    "name": "ipython",
    "version": 3
   },
   "file_extension": ".py",
   "mimetype": "text/x-python",
   "name": "python",
   "nbconvert_exporter": "python",
   "pygments_lexer": "ipython3",
   "version": "3.8.2"
  }
 },
 "nbformat": 4,
 "nbformat_minor": 2
}
