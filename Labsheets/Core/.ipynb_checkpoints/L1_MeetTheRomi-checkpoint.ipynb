{
 "cells": [
  {
   "cell_type": "markdown",
   "metadata": {
    "button": false,
    "run_control": {
     "read_only": false
    }
   },
   "source": [
    "# Lab 1: Meet the ROMI"
   ]
  },
  {
   "cell_type": "markdown",
   "metadata": {
    "button": false,
    "run_control": {
     "read_only": false
    }
   },
   "source": [
    "In this lab session, you will get to know the Romi robot that you will be using throughout these labs and for the coursework assessments. Specifically, you will:\n",
    "\n",
    "+ See the standard Arduino sketch, which has the structure of setup() and loop() routines.\n",
    "+ Experiment with Arduino Example sketches\n",
    "+ Upload sketches to your Romi robot.\n",
    "+ Experiment with Serial commands to view debug output from your code.\n",
    "+ (Optional) Use a Serial parser to read input\n",
    "\n",
    "\n",
    "The Romi is a <i>differential drive</i> robot from Pololu. This means it has two motors (1 per wheel) and turns by moving the motors at different speeds (or the same, if you want it to go forwards or backwards). It is controlled by an ATMEL ATMEGA32u4 Microcontroller, which is included on the integrated 32u4 Control board, also by Polulu. \n",
    "\n",
    "**If you have difficulty connecting to your Romi, please see Labsheet 0: Troubleshooting.**"
   ]
  },
  {
   "cell_type": "markdown",
   "metadata": {
    "button": false,
    "run_control": {
     "read_only": false
    }
   },
   "source": [
    "You can find a full reference documentation for the Romi on the Polulu website [here](https://www.pololu.com/docs/0J69). \n",
    "The 32u4 is the same Microcontroller used on the Arduino Leonardo board, meaning we can program it using the Arduino IDE. Other methods of uploading code are available, but will not be supported in this course. The arduino IDE is pre-installed on all lab machines (alongside the necessary drivers). If you wish to install the necessary software on your own machine, there is a guide [here](https://www.pololu.com/docs/0J69/5)"
   ]
  },
  {
   "cell_type": "markdown",
   "metadata": {
    "button": false,
    "run_control": {
     "read_only": false
    }
   },
   "source": [
    "## Aside\n",
    "\n",
    "It is highly recommended you read through these labsheets before you start working on them.  It isn't cheating to read ahead, it is smart.  Some of the exercises in these labsheets are intended to expose you to interesting problems, which we will later solve efficiently.  Therefore, some problems are intrinsically difficult when first encountered.  By reading ahead, you will gain a sense of where to spend your time effectively and how to manage your own learning - essential post-graduate skills.\n",
    "\n",
    "We assume some familiarity with basic programming in this course - if you have programmed in another language and are new to C/C++, we believe these materials should serve as a suitable introduction to C/C++ for microcontrollers. If you have never programmed before, we recommend you follow one of the many introductory courses online and seek support from the teaching team. If you have used C/C++ before, but not programmed a micro-controller before, that will almost certainly be sufficient background. It is always useful to look at the Arduino Programming language reference [here](https://www.arduino.cc/en/Reference/HomePage?from=Reference.Extended)."
   ]
  },
  {
   "cell_type": "markdown",
   "metadata": {},
   "source": [
    "<br><br><br><br>"
   ]
  },
  {
   "cell_type": "markdown",
   "metadata": {
    "button": false,
    "run_control": {
     "read_only": false
    }
   },
   "source": [
    "# Exercise 1: Uploading code"
   ]
  },
  {
   "cell_type": "markdown",
   "metadata": {
    "button": false,
    "run_control": {
     "read_only": false
    }
   },
   "source": [
    "In this exercise, we will see our first piece of code, try to understand its parts, and upload it to the Romi control board. "
   ]
  },
  {
   "cell_type": "markdown",
   "metadata": {
    "button": false,
    "run_control": {
     "read_only": false
    }
   },
   "source": [
    "The Atmega 32u4 and similar processors (such as the Atmega328p used in the Arduini Uno) can be programmed in C/C++.  This code can be transferred from your PC to the Romi via USB with the Arduino IDE\n",
    "\n",
    "1. Open the Arduino IDE (Integrated Development Environment) from the start menu\n",
    "2. Select File --> Examples --> 01.Basics --> Blink\n",
    "\n",
    "You should see the following code"
   ]
  },
  {
   "cell_type": "markdown",
   "metadata": {
    "button": false,
    "run_control": {
     "read_only": false
    }
   },
   "source": [
    "```C++\n",
    "/*\n",
    "  Blink\n",
    "\n",
    "  Turns an LED on for one second, then off for one second, repeatedly.\n",
    "\n",
    "  Most Arduinos have an on-board LED you can control. On the UNO, MEGA and ZERO\n",
    "  it is attached to digital pin 13, on MKR1000 on pin 6. LED_BUILTIN is set to\n",
    "  the correct LED pin independent of which board is used.\n",
    "  If you want to know what pin the on-board LED is connected to on your Arduino\n",
    "  model, check the Technical Specs of your board at:\n",
    "  https://www.arduino.cc/en/Main/Products\n",
    "\n",
    "  modified 8 May 2014\n",
    "  by Scott Fitzgerald\n",
    "  modified 2 Sep 2016\n",
    "  by Arturo Guadalupi\n",
    "  modified 8 Sep 2016\n",
    "  by Colby Newman\n",
    "\n",
    "  This example code is in the public domain.\n",
    "\n",
    "  http://www.arduino.cc/en/Tutorial/Blink\n",
    "*/\n",
    "\n",
    "// the setup function runs once when you press reset or power the board\n",
    "void setup() {\n",
    "  // initialize digital pin LED_BUILTIN as an output.\n",
    "  pinMode(LED_BUILTIN, OUTPUT);\n",
    "}\n",
    "\n",
    "// the loop function runs over and over again forever\n",
    "void loop() {\n",
    "  digitalWrite(LED_BUILTIN, HIGH);   // turn the LED on (HIGH is the voltage level)\n",
    "  delay(1000);                       // wait for a second\n",
    "  digitalWrite(LED_BUILTIN, LOW);    // turn the LED off by making the voltage LOW\n",
    "  delay(1000);                       // wait for a second\n",
    "}\n",
    "```"
   ]
  },
  {
   "cell_type": "markdown",
   "metadata": {
    "button": false,
    "run_control": {
     "read_only": false
    }
   },
   "source": [
    "The code above is a set of instructions to the microcontroller. Let's break this down a little bit. The code between lines 1 and 23 is enclosed by '/\\*' and '\\*/' and is known as a <i>comment</i>. This is not an instruction to the microcontroller, but text left by the developer to help others understand the code. Comments may also be marked by a double slash '//'. \n",
    "\n",
    "At the highest level, we can view the code that runs on the Romi as composed of two parts. First, we have the setup code which is ran when the Romi is first powered on. This code should be written in the setup() function. Next, we have the main loop. The code in this function is run repeatedly; once it has finished executing, the controller will return to the start of the function and begin again. The main code of your program should be written in the loop() function. \n",
    "\n",
    "<img src=\"https://github.com/paulodowd/EMATM0054_20_21/blob/master/images/Arduino%20Code%20Flow.png?raw=true\" width=\"33%\"/>\n",
    "\n",
    "Starting on line 26 (and below another comment), we have the setup function. The code contained in this function is run once, when the Romi is turned on. This function contains a single line:\n",
    "\n",
    "`pinMode(LED_BUILTIN, OUTPUT);`\n",
    "\n",
    "A Microcontroller such as the Atmega32u4 contains a number of pins, some of which can be configured as either an input or an output. See [here](https://www.arduino.cc/en/Tutorial/DigitalPins) for further details. This line calls the function pinMode with two arguments: the first, LED_BUILTIN refers to a pin connected to a built in LED on the Romi board. In this case, it is the Orange LED on the left hand side of the board.  \n",
    "\n",
    "`LED_BUILTIN` is effectively a 'find and replace' for pin 13.  Pin 13 is almost always the LED built in to arduino devices. You can create your own 'find and replace' keywords by using syntax like `#define MY_PIN_NAME 6` at the very top of your program.  When using other devices, you'll probably need to look up and use the exact pin number (e.g., pin 6 (digital pin 6), or A2 (analog pin 2) ).  The second argument sets the pin specified as an output, which means we will write a HIGH or LOW voltage.  If we instead use INPUT as an argument, the Arduino would expect your later code do a read of the voltage present at the pin.\n",
    "\n",
    "You can look up all the pins you can use on the Romi <a href=\"https://www.pololu.com/docs/0J69/3.8\">here</a>.  **Note:** many of these pins are used for devices already (like the motor encoders, we will look at these later) - which means there are only a limited number of free pins to plug in your own inputs and outputs.\n"
   ]
  },
  {
   "cell_type": "markdown",
   "metadata": {
    "button": false,
    "run_control": {
     "read_only": false
    }
   },
   "source": [
    "## Next, we have the main loop. This function will be called repeatedly by the Microcontroller. In this case, we first see the line:\n",
    "\n",
    "`digitalWrite(LED_BUILTIN, HIGH);`\n",
    "\n",
    "This tells the microcontroller to set the voltage of the LED_BUILTIN pin to be high (5V in this case). This causes current to flow through the LED, turning it on. Next we have the line:\n",
    "\n",
    "`delay(1000);`\n",
    "\n",
    "This tells the microcontroller to wait for 1000 milliseconds. Next, we set the LED_BUILTIN pin low (turning off the LED), before delaying for another second. After this instruction has finished, the program returns to the beginning of the loop() function and turns the LED on again.  As this happens repetitively, we should see the LED flash at a frequency of 0.5 Hz."
   ]
  },
  {
   "cell_type": "markdown",
   "metadata": {
    "button": false,
    "run_control": {
     "read_only": false
    }
   },
   "source": [
    "To upload this code to the Romi, you must first tell the IDE which type of microcontroller you wish to upload code to. To do this, select: \n",
    "\n",
    "    Tools --> Board --> Arduino Leonardo. \n",
    "\n",
    "Next, you must tell the IDE which serial port the arduino is connected to. To do this, select:\n",
    "\n",
    "    Tools --> Port --> COM X (Arduino Leonardo)\n",
    "\n",
    "Note: If this is the first time a Romi has plugged into your particular lab machine, you may not any serial ports tagged as \"Arduino Leonardo\". In this case, try uploading code to the COM ports you do see in sequence. When you select the correct port, you will see a pop-up which says \"Installing Pololu Bootloader\". From then on, you should see the correct COM port labelled with \"Arduino Leonardo\". \n",
    "\n",
    "Once you have selected the correct board and serial port you can either press `Ctrl-U` or the upload code button (The Arrow point to the right in the top left hand corner of the IDE).   "
   ]
  },
  {
   "cell_type": "markdown",
   "metadata": {
    "button": false,
    "run_control": {
     "read_only": false
    }
   },
   "source": [
    "## Task\n",
    "1. Upload the Blink example sketch to the 32u4\n",
    "2. Change the frequency of the LED flash to 5 Hz. \n",
    "\n",
    "**If you are having trouble connecting or uploading your code, please see the troubleshooting labsheet.**"
   ]
  },
  {
   "cell_type": "markdown",
   "metadata": {},
   "source": [
    "\n",
    "    \n",
    " **Note:** It isn't possible to \"stop\" your program.  Once you upload code to the Romi, it will run this code whenever the device is powered up.  It is possible to put the Romi into \"sleep states\" (low power modes), but it isn't possible to stop your program.  Therefore, you should write your code knowing that it will always loop (go back to the beginning).    You should write your code to to take advantage of this.\n"
   ]
  },
  {
   "cell_type": "markdown",
   "metadata": {},
   "source": [
    "<br><br><br><br>"
   ]
  },
  {
   "cell_type": "markdown",
   "metadata": {
    "button": false,
    "run_control": {
     "read_only": false
    }
   },
   "source": [
    "# Exercise 2: Variables and Scope\n",
    "\n",
    "In this exercise, we will modify the Blink example to count the number of times the LED has flashed since the Romi was turned on. This will introduce us to the important concepts of variables, data type and scope.\n",
    "\n",
    "In C/C++, working data is stored in the memory of your Micro-processor. You can use this memory in your program by declaring a <i>variable</i>. For example, we might want to use a variable to store the number of times our LED has flashed. To do so, we could change our code to be as follows:\n"
   ]
  },
  {
   "cell_type": "markdown",
   "metadata": {
    "button": false,
    "run_control": {
     "read_only": false
    }
   },
   "source": [
    "```C++\n",
    "int number_of_led_flashes = 0;\n",
    "\n",
    "// the setup function runs once when you press reset or power the board\n",
    "void setup() {\n",
    "  // initialize digital pin LED_BUILTIN as an output.\n",
    "  pinMode(LED_BUILTIN, OUTPUT);\n",
    "}\n",
    "\n",
    "// the loop function runs over and over again forever\n",
    "void loop() {\n",
    "  digitalWrite(LED_BUILTIN, HIGH);   // turn the LED on (HIGH is the voltage level)\n",
    "  delay(1000);                       // wait for a second\n",
    "  digitalWrite(LED_BUILTIN, LOW);    // turn the LED off by making the voltage LOW\n",
    "  delay(1000);                       // wait for a second\n",
    "}\n",
    "```"
   ]
  },
  {
   "cell_type": "markdown",
   "metadata": {
    "button": false,
    "run_control": {
     "read_only": false
    }
   },
   "source": [
    "Here, on line one, we have created a variable of <i>type</i> int, called \"number_of_led_flashes\" and set its value to be 0. Whenever we declare a variable in C++, we must follow this pattern of writing:\n",
    "\n",
    "```C++\n",
    "<type> <name>; \n",
    "```\n",
    "\n",
    "or, to also assign an initial value:\n",
    "\n",
    "```C++\n",
    "<type> <name> = value; \n",
    "```\n",
    "\n",
    "   \n",
    "The type of a variable tells the microprocessor what kind of information is stored in the variable. Common examples include:\n",
    "     \n",
    " + `int` : Used to store whole numbers. On the 32u4 microprocessor, an int is 16 bits (2 bytes) and represents numbers between -2^15 and 2^15-1 (-32,768 to 32,767). Note that you may also see an unsigned integer, which uses 2 bytes to represent positive numbers only (Giving a range of 0 to 65,535). Note also that if you try to store a fractional number in an integer, the part after the decimal point will be rounded down (IE Both 3.14159 and 3.9999 will be stored as 3). \n",
    "     \n",
    " + `float` : Used to store numbers that have a decimal point. (IE 3.14159). On the 32u4, floats are stored as 4 bytes and can take values ranging from 3.4028235E+38 to -3.4028235E+38. Note that due to the way floats are stored, arithmetic operations on floats may give unexpected results. For example, 6.0 / 3.0 may not be exactly equal to 2.0. Good practice when comparing floating point numbers is not to check whether they are exactly equal (with ==), but to check if the difference between them is below a threshold. \n",
    "     \n",
    " + `bool` : A boolean can be either True (1) or False (0). On the 32u4, a boolean uses 1 byte.\n",
    "     \n",
    " + `byte` : A byte is also used to store whole numbers (like an int), but as it only uses a single byte (8 bits), and can only represent values between 0 and 255.\n",
    "     \n",
    " + `char` : A char uses a byte (8-bits), but splits it equally into negative and postive values. The name Char comes from the fact that Chars are often used to represent letters, using the ASCII encoding (details [here](https://www.arduino.cc/en/Reference/ASCIIchart) ). \n",
    "     \n",
    "\n",
    " "
   ]
  },
  {
   "cell_type": "markdown",
   "metadata": {
    "button": false,
    "run_control": {
     "read_only": false
    }
   },
   "source": [
    "However, the <i>type</i> of a variable is not the only thing we must consider when declaring a variable. We must also consider the <i>scope</i> of the variable. Scope defines where a variable can be used. In C/C++, scope is indicated by a pair of curly brackets `{}` - you will see these used when we define functions, if-then-else statements and loops. Note that it is possible to nest scope. For exampe, we might write:\n"
   ]
  },
  {
   "cell_type": "markdown",
   "metadata": {
    "button": false,
    "run_control": {
     "read_only": false
    }
   },
   "source": [
    "```C++\n",
    "// This is the global scope\n",
    "\n",
    "void setup() {\n",
    "    \n",
    "    // This is the scope local to the setup function\n",
    "    \n",
    "    if (condition) {\n",
    "        // This is the scope local to the if-then-else statement of the setup function\n",
    "    }\n",
    "    \n",
    "    // Here we have returned to the scope local to the setup function\n",
    "}\n",
    "\n",
    "// Now we are back to global scope\n",
    "\n",
    "void loop() {\n",
    "\n",
    "    // This is the scope local to the loop function\n",
    "\n",
    "    if (condition) {\n",
    "        // This is the scope local to the if-then-else statement of the loop function\n",
    "    }\n",
    "    \n",
    "    // Here we have returned to the scope local to the loop function\n",
    "}\n",
    "\n",
    "// Now we are back to global scope again\n",
    "```"
   ]
  },
  {
   "cell_type": "markdown",
   "metadata": {
    "button": false,
    "run_control": {
     "read_only": false
    }
   },
   "source": [
    "When we declare a variable it can ONLY be used in the scope it is declared in and LOWER scopes. We can NOT use a variable from a lower scope in a higher scope. For example, if we write:\n"
   ]
  },
  {
   "cell_type": "markdown",
   "metadata": {
    "button": false,
    "run_control": {
     "read_only": false
    }
   },
   "source": [
    "```C++\n",
    "\n",
    "int a; //This is a global variable\n",
    "\n",
    "void setup() {\n",
    "    int b; //This is a local variable\n",
    "}\n",
    "\n",
    "void loop() {\n",
    "    int c; // This is a local variable\n",
    "}\n",
    "\n",
    "```"
   ]
  },
  {
   "cell_type": "markdown",
   "metadata": {
    "button": false,
    "run_control": {
     "read_only": false
    }
   },
   "source": [
    "Then we can use the variable a in both the setup and the loop functions. We can use the variable b ONLY in the setup function and variable c ONLY in the setup function. If we try to use a variable in a scope in which it does not exist, then we will get a compile error. For example, if I was to then write:\n",
    "\n"
   ]
  },
  {
   "cell_type": "markdown",
   "metadata": {
    "button": false,
    "run_control": {
     "read_only": false
    }
   },
   "source": [
    "```C++\n",
    "int a; // \"a\" is a global variable\n",
    "\n",
    "void setup() {\n",
    "    int b; // \"b\" is a local setup\n",
    "}\n",
    "\n",
    "void loop() {\n",
    "    int c;  // \"c\" is local to loop\n",
    "    b = 1;  // error! \"b\" isn't local (visible) to loop\n",
    "}\n",
    "```"
   ]
  },
  {
   "cell_type": "markdown",
   "metadata": {
    "button": false,
    "run_control": {
     "read_only": false
    }
   },
   "source": [
    "when I compile this, I get the error: "
   ]
  },
  {
   "cell_type": "markdown",
   "metadata": {
    "button": false,
    "run_control": {
     "read_only": false
    }
   },
   "source": [
    "`\\\\ads.bris.ac.uk\\filestore\\myfiles\\students\\mg13730\\Desktop\\test\\test.ino: In function 'void loop()':`\n",
    "\n",
    "`test:9: error: 'b' was not declared in this scope`\n",
    "\n",
    "   `b = 1;`\n",
    "\n",
    "   `^`\n",
    "\n",
    "`exit status 1`\n",
    "`'b' was not declared in this scope`"
   ]
  },
  {
   "cell_type": "markdown",
   "metadata": {
    "button": false,
    "run_control": {
     "read_only": false
    }
   },
   "source": [
    "Compile errors like this often look scary (and can be frustrating!), but in fact this error gives us a lot of information. The first line tells us the name of the file where the error was found (`test.ino`) AND the function (`void loop()`). The next line tells us the exact line of code where the problem is (`Line 9`) and the specific error (`'b' was not declared in this scope`). The next line shows us the line which causes the problem (`b=1;`). The final line tells us that the exist status of the compiler was 1 (Which means error) and repeats the specific error. \n",
    "\n",
    "**Note:** When you get a lot of errors from the Arduino IDE, a good rule of thumb is to scroll up the list of errors to the first error encountered.  Fixing this error first can then resolve all the following errors.\n"
   ]
  },
  {
   "cell_type": "markdown",
   "metadata": {},
   "source": [
    "## Variable Scope: Persistence and Undefined Behaviour\n",
    "\n",
    "\n",
    "\n",
    "```C++\n",
    "int a; // \"a\" is a global variable\n",
    "\n",
    "void setup() {\n",
    "    int b; // \"b\" is a local setup\n",
    "    a = 0;\n",
    "    b = 0;\n",
    "}\n",
    "\n",
    "void loop() {\n",
    "    int c;  // \"c\" is local to loop\n",
    "    \n",
    "    c = c + 1;\n",
    "    a = a + 1;\n",
    "}\n",
    "```\n",
    "\n",
    "In the above example, if the Arduino was powered up and `loop()` ran 10 times, what would be the values of the variables:\n",
    "- `a`?\n",
    "- `b`?\n",
    "- `c`?\n",
    "\n",
    "**Undefined Behaviour:** The first question you might have is, what value does `c` begin with?  `c` is declared in `loop()` but not given an intial value.  The code continues to increment the value of `c` in the line ` c = c + 1`.  In the above code we assume that a declared variable initialises to a value of `0` - this is correct within Arduino, but is it true for all microcontrollers?  Making assumptions like this is bad practice.  It is much better to be explicit and to set initial values.  Try to be aware of when your code makes assumptions like this which may lead to undefined behaviour.  \n",
    "\n",
    "**Persistence:** In the above example `a` is set as a global variable and so it will retain it's value throughout the execution of your program.  In contrast, `b` and `c` are local variables, which means they will only retain their value during the execution of their scope, `setup()` and `loop()` respectively.  Another way to think of this, is that the global scope will always be in execution, whilst local scopes are temporary.\n",
    "\n",
    "As such, b is declared and initialised within `setup()` to a value of 0, and then deleted when `setup()` finishes, moving on to `loop()`.  In contrast, the global variable `a` is set to an initial value of 0 within `setup()`, and even though `setup()` closes, `a` will retain it's value.\n",
    "\n",
    "Each time `loop()` runs, variable `c` is newly created and has its value initialised to 0.  Therefore, the result of `c = c + 1` will equal 1 every time `loop()` is run.  In contrast, `a` is declared in the global scope and retains it's value.  This means that for 10 runs of `loop()`, `a` will hold the value 10.\n",
    "\n"
   ]
  },
  {
   "cell_type": "markdown",
   "metadata": {},
   "source": [
    "##  Task\n",
    "\n",
    "1. Add code to the main loop of the Blink example which stops the LED from flashing after 10 flashes.\n",
    "    \n",
    "**Note:** you will need to use an `if statement` to check the status of a variable you create to count up to 10.  You can think of an `if statement` as a way to branch your code (go one direction or another).  As a template, you might want to structure your code like:\n",
    "\n",
    "```C++\n",
    "\n",
    "if( my_count < 10 ) {\n",
    "        // do flashing LED behaviour\n",
    "} else {\n",
    "        // just keep the LED off.\n",
    "}\n",
    "\n",
    "```\n",
    "\n",
    "When you have created your solution, ask yourself questions about what type of errors it may generate over time:\n",
    "- does your counting stop at 10?\n",
    "- can your code start with a count value more than 10 to begin with?\n",
    "- what would happen if it started counting from a negative value?\n",
    "- etc\n",
    "\n",
    "\n"
   ]
  },
  {
   "cell_type": "markdown",
   "metadata": {
    "button": false,
    "run_control": {
     "read_only": false
    }
   },
   "source": [
    "# Exercise 3: Using functions\n",
    "\n",
    "In the previous two exercises, we used the word `function` multiple times without really defining what it means. In essence, a function is a way of organising code by separating it into blocks of code which together perform a single task. We have already seen two functions - `setup()` and `loop()`. We can define our own functions by code to a specific template, outlined in abstract below:"
   ]
  },
  {
   "cell_type": "markdown",
   "metadata": {
    "button": false,
    "run_control": {
     "read_only": false
    }
   },
   "source": [
    "```C++\n",
    "return_type function_name (variable_type variable_name, variable_type variable_name, ...)\n",
    "{\n",
    "    // Code goes here\n",
    "    // ...\n",
    "    // ...\n",
    "        \n",
    "        \n",
    "    // This line ends this function and passes the value \n",
    "    // back to where the function was called.\n",
    "    // If the return_type of your function is void, you can\n",
    "    // omit return, or just use return;\n",
    "    return value; \n",
    "}\n",
    "```"
   ]
  },
  {
   "cell_type": "markdown",
   "metadata": {
    "button": false,
    "run_control": {
     "read_only": false
    }
   },
   "source": [
    "If we start from the bottom, the function ends with the block `{}`. This is where we actually write the code that the function executes. Above that, we have the function call definition. Starting from the right, in the round brackets `()`, we have a list of variables (defined just as in regular code). These are variables that can be used to pass information into the function from another scope. Next, we have the name of the function. Finally, we have the function_type. This defines the type of data that is returned by the function; when we call a function, it can optionally return a value to the part of the code where it was called from. For example, we might write a function called `blink_leds` which turns the LEDs on and then off again. To do so, we would first write:"
   ]
  },
  {
   "cell_type": "markdown",
   "metadata": {
    "button": false,
    "run_control": {
     "read_only": false
    }
   },
   "source": [
    "```C++\n",
    "void flash_leds () {\n",
    "  digitalWrite(LED_BUILTIN, HIGH);   // turn the LED on (HIGH is the voltage level)\n",
    "  delay(1000);                       // wait for 1 second (i.e 1000 milli seconds)\n",
    "  digitalWrite(LED_BUILTIN, LOW);    // turn the LED off by making the voltage LOW\n",
    "  delay(1000); \n",
    "}\n",
    "```"
   ]
  },
  {
   "cell_type": "markdown",
   "metadata": {
    "button": false,
    "run_control": {
     "read_only": false
    }
   },
   "source": [
    "Note that we have used a new data type here (`void`). This means that our function does not return a value. We then need to change the code in our loop to use this function instead. The rest of our code then changes to use this function:\n"
   ]
  },
  {
   "cell_type": "markdown",
   "metadata": {
    "button": false,
    "run_control": {
     "read_only": false
    }
   },
   "source": [
    "```C++\n",
    "// A function to turn the standard debug led (pin 13)\n",
    "// on and off, waiting 1 second between.\n",
    "void flash_leds () {\n",
    "    \n",
    "  digitalWrite(LED_BUILTIN, HIGH);   // turn the LED on (HIGH is the voltage level)\n",
    "  delay(1000);                       // wait for a second\n",
    "  digitalWrite(LED_BUILTIN, LOW);    // turn the LED off by making the voltage LOW\n",
    "  delay(1000); \n",
    "    \n",
    "}\n",
    "\n",
    "// the setup function runs once when you press reset or power the board\n",
    "void setup() {\n",
    "    \n",
    "  // initialize digital pin LED_BUILTIN as an output.\n",
    "  pinMode(LED_BUILTIN, OUTPUT);\n",
    "    \n",
    "}\n",
    "\n",
    "// the loop function runs over and over again forever\n",
    "void loop() {\n",
    "    \n",
    "  flash_leds();                     // calling our bespoke function\n",
    "    \n",
    "}\n",
    "```"
   ]
  },
  {
   "cell_type": "markdown",
   "metadata": {
    "button": false,
    "run_control": {
     "read_only": false
    }
   },
   "source": [
    "As we discussed above, we can also pass information into a function by giving it some input variables. For example, we might want to make a variable for controlling the rate at which the LED flashes. To do so, we would change our flash_led function as follows:"
   ]
  },
  {
   "cell_type": "markdown",
   "metadata": {
    "button": false,
    "run_control": {
     "read_only": false
    }
   },
   "source": [
    "```C++\n",
    "void flash_leds (int delay_ms) {\n",
    "    \n",
    "  digitalWrite(LED_BUILTIN, HIGH);   // turn the LED on (HIGH is the voltage level)\n",
    "  delay(delay_ms);                       // wait for a second\n",
    "  digitalWrite(LED_BUILTIN, LOW);    // turn the LED off by making the voltage LOW\n",
    "  delay(delay_ms); \n",
    "    \n",
    "}\n",
    "```"
   ]
  },
  {
   "cell_type": "markdown",
   "metadata": {
    "button": false,
    "run_control": {
     "read_only": false
    }
   },
   "source": [
    "We can then change line that reads `flash_leds();` to `flash_leds(1000)` to make the LED flash at 0.5 Hz as before. \n",
    "\n",
    "As well as passing information into a function, we may also want to get it back from a function. To do this, we must set the function_type to match the kind of data we want to return and then end our function with the line `return (value)`. For example, we might want to write a function which calculates the sum of two numbers. To do so, we would first need to decide what type of numbers we want to add (ints or floats). If we assume we only want to add floats, then we could write:"
   ]
  },
  {
   "cell_type": "markdown",
   "metadata": {
    "button": false,
    "run_control": {
     "read_only": false
    }
   },
   "source": [
    "```C++\n",
    "\n",
    "int add_two_numbers(int number1, int number2) {\n",
    "    return number1+number2;\n",
    "}\n",
    "\n",
    "```"
   ]
  },
  {
   "cell_type": "markdown",
   "metadata": {
    "button": false,
    "run_control": {
     "read_only": false
    }
   },
   "source": [
    "If we then add the following code somewhere else:"
   ]
  },
  {
   "cell_type": "markdown",
   "metadata": {
    "button": false,
    "run_control": {
     "read_only": false
    }
   },
   "source": [
    "```C++\n",
    "// Prior code goes here\n",
    "    \n",
    "int a;  // create an integer variable named \"a\"\n",
    "        // where we will store our result.\n",
    "\n",
    "a = add_two_numbers(1, 2);  // Call our function.  We\n",
    "                            // Pass in two values, 1 , 2.\n",
    "                            // We declared that the function\n",
    "                            // returns an 'int', which we store\n",
    "                            // into \"a\"\n",
    "\n",
    "// Subsequent codes goes here\n",
    "```"
   ]
  },
  {
   "cell_type": "markdown",
   "metadata": {
    "button": false,
    "run_control": {
     "read_only": false
    }
   },
   "source": [
    "The variable \"a\" will store the value 3. "
   ]
  },
  {
   "cell_type": "markdown",
   "metadata": {
    "button": false,
    "run_control": {
     "read_only": false
    }
   },
   "source": [
    "## Task\n",
    "To practice using functions, we will write a function to control the Buzzer on the 32u4 control board. The Buzzer is connected to one of the pins controlled by the 32u4. Before we can use the buzzer, we must configure this pin as an output\n",
    "\n",
    "1. Go to <a href=\"https://www.pololu.com/docs/0J69/3.8\">the documentation</a> and find which pin is used to control the buzzer.  You will want to use the value found in the `Arduino pin names` column within your code.\n",
    "    \n",
    "**Hint:** We saw how to set a pin as an `OUTPUT` earlier in this sheet.\n",
    "\n",
    "Next, we will write a function that lets us control the power and duration of the Buzzer. To begin with, we will write the defintion of our function:\n",
    "\n",
    "`void play_tone(int volume)`\n",
    "\n",
    "Here, we have declared a function of type  void (meaning it doesn't return anything), with one input argument: An integer (called volume). This means that when we call the function, we need to provide it with one value. This value will be passed into the function, and can then be used within the function as a local variable. \n",
    "\n",
    "We can set the power of the Buzzer by using the `analogWrite(PIN, <0-255>)` function - you may want to check the <a href=\"https://www.arduino.cc/reference/en/\">Arduino reference</a> to find out more about this function.  The analogWrite() function creates a PWM signal on the pin, with a duty factor between 0 (If we set the second argument to 0) and 1 (if we set the second argument to 255). We will look at PWM signals in more detail in lab 2, so don't worry  if you are unsure what this means - for now, we just need to now that if we set 0, we will get a low volume, if we set 255, we will get a high volume, and we can get volumes in the middle of these, by setting numbers between 0 and 255. Below, we have sketched an outline of the play_tone function. \n",
    "\n",
    " 2. Complete the function\n",
    " 3. Extend the function with a second argument that lets us control the duration of the tone"
   ]
  },
  {
   "cell_type": "markdown",
   "metadata": {
    "button": false,
    "run_control": {
     "read_only": false
    }
   },
   "source": [
    "```C++\n",
    "void play_tone(int volume) {\n",
    "    analogWrite(???, ???);\n",
    "    delay(1000);\n",
    "    analogWrite(???, ???);\n",
    "}\n",
    "```"
   ]
  },
  {
   "cell_type": "markdown",
   "metadata": {},
   "source": [
    "### Note: When you're working with the buzzer you might encounter the following problems:\n",
    "\n",
    "- You can operate the buzzer outside of the human range of hearing.  You should experiment with your time interval between calls to analogWrite().  You might only hear a mechanical clicking, and not the ultrasonic or subsonic tone-sound.\n",
    "- You can over-drive (over power) the buzzer with your analogWrite() function when writing high values such as 255.  The buzzer is still loud at values of 150 or less.\n",
    "- You may need to activate the battery power for your Romi (the blue light comes on).\n",
    "- The buzzer is a useful way to debug your Romi behaviours but it can get very annoying.  You can use a bit of blu-tack or tape to cover the hole of the buzzer to make the beeping much softer to your ears."
   ]
  },
  {
   "cell_type": "markdown",
   "metadata": {
    "button": false,
    "run_control": {
     "read_only": false
    }
   },
   "source": [
    "# Exercise 4: Serial Communication"
   ]
  },
  {
   "cell_type": "markdown",
   "metadata": {
    "button": false,
    "run_control": {
     "read_only": false
    }
   },
   "source": [
    "Serial communication allows information to be sent back to the computer you are working on via the USB cable.  This makes it a good tool for debuging and devloping your code.  For a more in-depth look at Serial, you may want to look at this <a href=\"https://learn.sparkfun.com/tutorials/serial-communication/all#serial-intro\">Spark Fun article</a>.   \n",
    "\n",
    "To use the Serial connection, we must first initialise it and tell it the baud rate (Number of bits / second) the connection should use. The best place to do this is in the setup() function. We can then use the connection to send messages back to our PC by calling the function Serial.println() or Serial.print().   \n",
    "\n",
    "It is also good practice to print a recognisable string (below, `***RESET***`) in the `setup()` routine, so that if your board resets you will notice.  When we work with microcontrollers, the board can reset with segmentation faults (e.g. an error accessing an array variable) or even low battery power - which is hard to otherwise spot.  Your Romi will just appear irratic.  Another good technique to spot such errors is to to add some audible beeps during `setup()`.\n",
    "\n",
    "Paste the following code into your sketch:\n",
    "\n"
   ]
  },
  {
   "cell_type": "markdown",
   "metadata": {
    "button": false,
    "run_control": {
     "read_only": false
    }
   },
   "source": [
    "```C++\n",
    "\n",
    "void flash_leds () {\n",
    "  digitalWrite(LED_BUILTIN, HIGH);   // turn the LED on (HIGH is the voltage level)\n",
    "  delay(1000);                       // wait for a second\n",
    "  digitalWrite(LED_BUILTIN, LOW);    // turn the LED off by making the voltage LOW\n",
    "  delay(1000); \n",
    "}\n",
    "\n",
    "// the setup function runs once when you press reset or power the board\n",
    "void setup() {\n",
    "    \n",
    "  // initialize digital pin LED_BUILTIN as an output.\n",
    "  pinMode(LED_BUILTIN, OUTPUT);\n",
    "    \n",
    "  //Start a serial connection\n",
    "  Serial.begin(9600);\n",
    "    \n",
    "  // Wait for stable connection, report reset.\n",
    "  delay(1000);\n",
    "  Serial.println(\"***RESET***\");\n",
    "\n",
    "}\n",
    "\n",
    "// the loop function runs over and over again forever\n",
    "void loop() {\n",
    "    \n",
    "  flash_leds();                     // flash LEDS\n",
    "  Serial.println(\"Hello, from the Romi\");\n",
    "}\n",
    "```"
   ]
  },
  {
   "cell_type": "markdown",
   "metadata": {
    "button": false,
    "run_control": {
     "read_only": false
    }
   },
   "source": [
    "Once uploaded, you can open the Serial monitor on the Arduino IDE via:\n",
    "\n",
    "    Tools --> Serial Monitor \n",
    "\n",
    "or by pressing `CTRL` + `Shift` + `M`. If you set the baud rate on the serial monitor to 9600, you should see the message from the Romi printed out. \n",
    "\n",
    "\n",
    "## Task\n",
    "1. Change the message the Romi prints\n",
    "2. Change the code so that the Romi prints out the number of times the LED has flashed\n",
    "    \n",
    "Hint: You can call Serial.println() with a variable instead of a text string and it should automatically print the value. You can also use Serial.print() to not automatically create a new line in the monitor. In this case, you can build up a string of characters, by writing for example:\n",
    "\n",
    "```C++\n",
    "Serial.print(\"Number of flashes: \");  // no newline character\n",
    "\n",
    "Serial.println(number_of_flashes);\n",
    "\n",
    "```\n",
    "\n",
    "You can also read data from the Serial monitor. To do so, we use the function `Serial.read()`. This will get one byte from the Serial monitor. For example, we could write in our main loop:"
   ]
  },
  {
   "cell_type": "markdown",
   "metadata": {
    "button": false,
    "run_control": {
     "read_only": false
    }
   },
   "source": [
    "```C++\n",
    "\n",
    "\n",
    "void flash_leds () {\n",
    "  digitalWrite(LED_BUILTIN, HIGH);   // turn the LED on (HIGH is the voltage level)\n",
    "  delay(1000);                       // wait for a second\n",
    "  digitalWrite(LED_BUILTIN, LOW);    // turn the LED off by making the voltage LOW\n",
    "  delay(1000); \n",
    "}\n",
    "\n",
    "// the setup function runs once when you press reset or power the board\n",
    "void setup() {\n",
    "    \n",
    "  // initialize digital pin LED_BUILTIN as an output.\n",
    "  pinMode(LED_BUILTIN, OUTPUT);\n",
    "  \n",
    "  //Start a serial connection\n",
    "  Serial.begin( 9600 );\n",
    "    \n",
    "  // Wait for stable connection, report reset.\n",
    "  delay(1000);\n",
    "  Serial.println(\"***RESET***\");\n",
    "    \n",
    "}\n",
    "\n",
    "// the loop function runs over and over again forever\n",
    "void loop() {\n",
    "    \n",
    "  //This line checks whether there is anything to read\n",
    "  if ( Serial.available() ) {\n",
    "      \n",
    "      char inChar = Serial.read(); //This reads one byte\n",
    "      \n",
    "      if (inChar =='s') {\n",
    "          Serial.println(\"Got s\");\n",
    "      }\n",
    "      \n",
    "  }\n",
    "    \n",
    "}\n",
    "```"
   ]
  },
  {
   "cell_type": "markdown",
   "metadata": {
    "button": false,
    "run_control": {
     "read_only": false
    }
   },
   "source": [
    "This will cause the Romi to respond whenever we type the character 's' on the Serial monitor. \n",
    "\n",
    "### Task\n",
    "1. Modify the code above to flash an LED whenever the character 'l' is received.\n",
    "2. Modify the code above so that the character 'r' toggles repeated flashing.\n",
    "    \n",
    "Hint: You may want to use a global boolean variable for task 2.\n",
    "\n"
   ]
  },
  {
   "cell_type": "markdown",
   "metadata": {},
   "source": [
    "## Serial Plotter\n",
    "\n",
    "Finally, it is often useful to see a plot of data produced by our system.  For instance, if you have a variable which is going to change over time, it would be useful to actually see how it is changing to check if it is working as expected.  \n",
    "\n",
    "The Arduino IDE comes with a built in plotter to do just that. If we print a number we can see it plotted by pressing `Ctrl` + `Shift` + `L`.   We can view multiple plots by ensuring values are printed seperated by commas.  The following code provides a working example:\n",
    "\n",
    "```C++\n",
    "#include <math.h>\n",
    "\n",
    "float a;\n",
    "float b;\n",
    "float c;\n",
    "\n",
    "void setup() {\n",
    "\n",
    "  //Start a serial connection\n",
    "  Serial.begin( 9600 );\n",
    "  \n",
    "  // Wait for stable connection, report reset.\n",
    "  delay(1000);\n",
    "  Serial.println(\"***RESET***\");\n",
    "\n",
    "  a = TWO_PI;\n",
    "  b = a;\n",
    "  c = b;\n",
    "\n",
    "}\n",
    "\n",
    "void loop() {\n",
    "  \n",
    "  a += 0.01;\n",
    "  b = sin( a * 20 );\n",
    "  c = cos( a * 10 );\n",
    "\n",
    "  Serial.print( a );\n",
    "  Serial.print( \",\"); \n",
    "  Serial.print( b );\n",
    "  Serial.print( \",\");\n",
    "  Serial.print( c );\n",
    "  \n",
    "  Serial.print( \"\\n\" );   // Finish with a newline\n",
    "  //Serial.println( \"\" ); // either of these two work.\n",
    "\n",
    "  delay(50);\n",
    "\n",
    "}\n",
    "\n",
    "```\n",
    "\n",
    "On the Serial Monitor, you would see the text string like:\n",
    "\n",
    "\n",
    "\n",
    "And on the Serial Monitor you should be able to see, with the different colours representing the order of `a`, `b` and `c` as executed with `Serial.print()`:\n",
    "\n",
    "\n"
   ]
  }
 ],
 "metadata": {
  "kernelspec": {
   "display_name": "Python 3",
   "language": "python",
   "name": "python3"
  },
  "language_info": {
   "codemirror_mode": {
    "name": "ipython",
    "version": 3
   },
   "file_extension": ".py",
   "mimetype": "text/x-python",
   "name": "python",
   "nbconvert_exporter": "python",
   "pygments_lexer": "ipython3",
   "version": "3.8.5"
  }
 },
 "nbformat": 4,
 "nbformat_minor": 2
}
