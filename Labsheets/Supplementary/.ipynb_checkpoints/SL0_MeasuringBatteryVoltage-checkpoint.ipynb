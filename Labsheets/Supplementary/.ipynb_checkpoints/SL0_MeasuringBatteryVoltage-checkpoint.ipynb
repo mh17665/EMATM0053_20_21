{
 "cells": [
  {
   "cell_type": "markdown",
   "metadata": {},
   "source": [
    "# Supplementary Labsheet 0: Measuring Battery Voltage\n",
    "\n",
    "This suppplementary labshoot investigates measuring the battery voltage of your Romi whilst it is operating.  This labsheet is quite straight-forward and will introduce you to reading analog voltages.  Measuing the battery voltage of the Romi might be useful to:\n",
    "- detect and alert you to a critically low battery (which would alter the performance of your robot)\n",
    "- to adjust system parameters depending on your measured battery voltage.\n",
    "- to develop autonomous optimisations of Romi behaviour (e.g. optimised usage of battery whilst moving).\n",
    "\n",
    "In this labsheet, we investigate some electronic schematics to understand how we can measure the battery voltage.\n",
    "\n"
   ]
  },
  {
   "cell_type": "markdown",
   "metadata": {},
   "source": [
    "<br><br><br><br>"
   ]
  },
  {
   "cell_type": "markdown",
   "metadata": {},
   "source": [
    "# A Look at Schematics\n",
    "\n",
    "Pololu offer the full schematic for the Romi for free from their website, <a href=\"https://www.pololu.com/file/0J1258/romi-32u4-control-board-schematic-diagram.pdf\">here</a>.  We will look at the relevant aspects for measuring the battery voltage.\n",
    "\n",
    "\n",
    "A general description of the power sub-system for the Romi is provided in the Romi documentation, <a href=\"https://www.pololu.com/docs/0J69/3.5\">here</a>.  This description tells us:\n",
    "- **VBAT**: is a pin connected to the batteries, which may be between 7.2volts or 9volts, depending on the type of AA-cell batteries installed.\n",
    "- **VSW**: is the battery voltage (VBAT), after it has been through a power switching circuit (on/off) and a reverse-protection circuit (to attempt to prevent damage if the batteries are installed incorrectly).\n",
    "- That VSW can be monitored through the Arduino pin **A1**.  \n",
    "\n",
    "From the lectures, you should remember that an <a href=\"https://en.wikipedia.org/wiki/Analog-to-digital_converter\">Analog-to-Digital Converter (ADC)</a> makes a comparison between a voltage present at a pin and a voltage reference.  This then presents two interesting questions concerning measuring our Romi battery voltage:\n",
    "\n",
    "\n",
    "1. If the Romi batteries can run out - therefore the system voltage will drop over time - how can the Romi make a comparison to a voltage reference on the same circuit?  (e.g., won't the reference change as the batteries change?)\n",
    "\n",
    "2. If the Romi operates on a relatively small voltage (5volts), how can it make a comparative measurement to a much larger battery voltage (e.g.9volts)?\n",
    "\n",
    "\n",
    "When we look through schematics, any labels made to pins will be consistent throughout the document.  Therefore, if you see a label such as **VCCREG** on one page, this will be electronically connected to another reference of **VCCREG** on another page.  We can therefore follow the labels through the circuitry to gain an understanding of the operation of the circuit.\n",
    "\n",
    "\n"
   ]
  },
  {
   "cell_type": "markdown",
   "metadata": {},
   "source": [
    "## 1) Voltage Reference\n",
    "\n",
    "When working with microcontrollers it is possible to provide an external voltage as a reference for the ADC.  In our system, this wouldn't necessarily be useful, because we expect the battery voltage to be changing over time.  However, it is interesting to locate the analog reference (**AREF**) on the schematic:\n",
    "\n",
    "<img src=\"https://github.com/paulodowd/EMATM0054_20_21/blob/master/images/romi_aref.png?raw=true\"/>\n",
    "\n",
    "In the above schematic, we can see that AREF is connected through a capacitor to ground (0 volts).  This tells us that the analog reference is not connected to an external reference by default.  This also tells us that is likely the AREF pin will be configured in software to work from the internal voltage reference source.  Therefore, we can expect AREF to be the 5V supplied to the Romi's microcontroller, labelled as **VCC** receiving **5V**.  On some microcontroller systems, this might be 3.3volts, or another voltage - we should try not to make any assumptions.\n",
    "\n",
    "On page 5 of the schematics, we can find circuit blocks which perform power regulation and switching:\n",
    "\n",
    "<img src=\"https://github.com/paulodowd/EMATM0054_20_21/blob/master/images/power_reg1.png?raw=true\"/>\n",
    "\n",
    "\n",
    "The above circuit block features the <a href=\"https://www.monolithicpower.com/en/documentview/productdocument/index/version/2/document_type/Datasheet/lang/en/sku/MP4423H/\">MP4423H</a> chip, which is a high-frequency <a href=\"https://en.wikipedia.org/wiki/Switched-mode_power_supply\">switch-mode converter</a>.  A switch-mode converter is an amazing innovation that allows for the regulation of voltage at extremely high efficiency - up to 95% efficiency in some cases (e.g., only 5% of energy is lost).  Prior to switch-mode, linear converters would step-down or step-up voltage (shift the voltage level) but usually produce a lot of heat as wasted energy, and to make this worse, you'd often need a fan to keep the electronics cool (using more energy!).  For any type of voltage transformer, we can apply a general understanding that voltage and current can be exchanged, e.g., less current for more voltage, and vice-versa.\n",
    "\n",
    "On the Romi, it is the MP4423H chip which takes the battery voltage, **VSW**, indicated in the top left, and then produces a stable 5volts for the microcontroller system, labelled as **VREG** on the right.  This has the effect that, even if VSW is slowly dropping, it is possible to produce a stable 5volt reference for AREF.  If you are confused about these labels (how do we know VREG is the regulated output of 5V?), and which are inputs and outputs, you should refer to the MP4423H datasheet.  \n",
    "\n",
    "Following VREG on in the other circuit diagrams, we can see in the below circuit that it is used as one of two inputs to a chip named <a href=\"https://www.ti.com/product/TPS2113A\">TPS1138</a>.  The TPS1138 also takes **VBUS** as an input, which is the name for the 5volts supplied from the USB connection.  The TPS1138 therefore allows the 5v source to be switched between batteries and the USB connection without interruption - which is convenient!  We can see the label **5V** on the right hand side, which is coming from the TPS1138, and connects to most of the rest of the electronics in these schematics.\n",
    "\n",
    "<img src=\"https://github.com/paulodowd/EMATM0054_20_21/blob/master/images/power_switching.png?raw=true\"/>\n",
    "\n",
    "\n",
    "Even if you haven't studied electronics, hopefully you'll now have a better understanding of how a stable 5volts can be produced from a battery source which changes over time."
   ]
  },
  {
   "cell_type": "markdown",
   "metadata": {},
   "source": [
    "## 2) Measuring a larger voltage:\n",
    "\n",
    "\n",
    "If we search the schematic for the label **A1** (where we will measure the battery voltage **VSW**), we can find the following circuit diagram:\n",
    "\n",
    "<img src=\"https://github.com/paulodowd/EMATM0054_20_21/blob/master/images/batt_pd.png?raw=true\"/>\n",
    "\n",
    "You may recognise the above configuration of resistors as a <a href=\"https://learn.sparkfun.com/tutorials/voltage-dividers/all\">potential divider</a>.  From this circuit diagram, we can read that the voltage present at VSW is divided by the 20k and 10k resistors in series, with A1 reading from the junction (labelled as **BATLEV**).  The choice of 20k and 10k resistors makes the potential divider quite convenient - it essentially divides the voltage at VSW into thirds, presenting 1/3 of the level of VSW to A1.  This is a way to bring a larger voltage down to be measured.  In this case, up to 15volts could be divided down to a safe value for measurement (one third of 15v is 5v, 5v being the upper limit of our reference for comparison AREF).  We should understand from theory of potential dividers that the voltage at BATLEV is not constant, but will be proportional (1/3) of the voltage of VSW as it changes.\n",
    "\n",
    "To understand why a third of VSW is presented at A1, we can look at the equation for a potential divider:\n",
    "\n",
    "<img src=\"https://cdn.sparkfun.com/assets/e/7/6/3/c/511968d9ce395f7c54000000.png\"/>\n",
    "\n",
    "If we substitute our circuit labels into the equation above, we achieve:\n",
    "\n",
    "$$BATLEV = VSW \\times \\frac{R5}{R4+R5}$$\n",
    "\n",
    "If we substitute our known values we achieve:\n",
    "\n",
    "$$BATLEV = VSW \\times \\frac{R5}{R4+R5}$$\n",
    "\n",
    "$$BATLEV = VSW \\times \\frac{10000}{20000+10000}$$\n",
    "\n",
    "$$BATLEV = VSW \\times 0.33$$\n",
    "\n",
    "From the above equation and our understanding of the **potential divider circuit**, we can postulate that:\n",
    "- the ADC **A1** will measure (BATLEV) the voltage of the battery as 1/3 (*0.33) of its total potential (VSW).\n",
    "\n"
   ]
  },
  {
   "cell_type": "markdown",
   "metadata": {},
   "source": [
    "<br><br><br><br>"
   ]
  },
  {
   "cell_type": "markdown",
   "metadata": {},
   "source": [
    "# Exercise 1\n",
    "\n",
    "From the datasheet for the Romi microcontroller, the <a href=\"http://ww1.microchip.com/downloads/en/DeviceDoc/Atmel-7766-8-bit-AVR-ATmega16U4-32U4_Summary.pdf\">Atmega32u4</a>, we know that it has a 10-bit ADC to convert a continuous analog voltage into a discrete digital representation.  Therefore, when we receive a number from the analogRead(), it is not in the units of volts.  We also know that the Romi uses a 5volt reference (AREF) for the ADC unit.\n",
    "\n",
    "Therefore, when the Romi makes an analogRead() operation and returns a 10-bit number ($ADC_{raw}$), it is possible to convert that 10-bit value into units of voltage ($V_{adc}$):\n",
    "\n",
    "<table border=\"0\"><tr>\n",
    "    <td>$$V_{adc} = ADC_{raw} \\times \\frac{AREF}{2^{10}} $$</td><td>(eq.1)</td>\n",
    "    </tr><tr>\n",
    "    <td>$$V_{adc} = ADC_{raw} \\times \\frac{5volts}{2^{10}} $$</td><td></td>\n",
    "    </tr>\n",
    "</table>\n",
    "\n",
    "From the prior section, we also have the equation which indicates the ADC measurement of BATLEV will be proportional to 1/3 of VSW: \n",
    "\n",
    "<table border=\"0\"><tr>\n",
    "    <td>$$BATLEV = VSW \\times 0.33$$</td><td>(eq.2)</td>\n",
    "    </tr>\n",
    "    </table>\n",
    "\n",
    "\n",
    "## Task 1:\n",
    "\n",
    "- Re-arrange `eq.2` to solve for **VSW**.\n",
    "- Substitute `eq.1` into your new form of `eq.2`.\n",
    "- Write this as a simple Arduino Sketch to measure your battery voltage within loop().\n",
    "    - Be sure to use the appropriate variable type.  If you always see a result of 0 (or NaN), take a look at the trouble shooting and/or Checkpoint labsheets.\n",
    "- View your result using the Serial Monitor and/or Serial Plotter.\n",
    "    - **Be sure to activate the battery power of your Romi - the blue light should come on.**\n",
    "- Check that the reported voltage appears reasonable (what would you expect?).\n",
    "\n",
    "\n",
    "## Task 2:\n",
    "\n",
    "- Write a simple Arduino sketch to periodically activate the motors at high speed, and then to zero speed.  For example, 2 seconds on, and 2 seconds off.  \n",
    "- What do you observe on the Serial Plotter?\n",
    "- Experiment with different motor speeds and observe the results on your plotter.\n",
    "- Experiment with your Romi on different surfaces and observe the results on your plotter.\n",
    "- Write some code to filter your measurement of the battery voltage to reduce the measurement noise.  You may wish to look at Supplementary Labsheet 3 for techniques.\n",
    "\n",
    "## Task 3:\n",
    "\n",
    "- Write a simple Arduino sketch so that if you resist the motion of your wheels (stall), your Romi will automatically stop the wheels from rotating.\n",
    "\n",
    "\n",
    "\n",
    "\n",
    "\n",
    "\n"
   ]
  }
 ],
 "metadata": {
  "kernelspec": {
   "display_name": "Python 3",
   "language": "python",
   "name": "python3"
  },
  "language_info": {
   "codemirror_mode": {
    "name": "ipython",
    "version": 3
   },
   "file_extension": ".py",
   "mimetype": "text/x-python",
   "name": "python",
   "nbconvert_exporter": "python",
   "pygments_lexer": "ipython3",
   "version": "3.8.2"
  }
 },
 "nbformat": 4,
 "nbformat_minor": 4
}
