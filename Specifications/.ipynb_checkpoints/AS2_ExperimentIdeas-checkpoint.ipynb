{
 "cells": [
  {
   "cell_type": "markdown",
   "metadata": {},
   "source": [
    "# Assessment 2: Experiment Ideas\n",
    "\n",
    "For Assessment 2 you are required to work in groups, drawing on your achievements in Assessment 1, to:\n",
    "- decide upon an area of investigation\n",
    "- formulate a hypothesis or research questions\n",
    "- design an experimental method and procedure\n",
    "- collect experiment data\n",
    "- present your experiment findings in a 6-page report.\n",
    "\n",
    "It is recommended that you begin discussing with your group which area is most of interest to you, and where you are able to apply your background skills.  You should think about how to partition work and manage your time effectively.\n",
    "\n",
    "Please note that it is not necessary to select from this brief list of ideas.  The following provide some example ideas for experiments which you may wish to build upon or alter substantially.  You are invited to send a proposal for an experiment to the teaching team, and they will give you feedback.\n",
    "\n",
    "For whichever investigation you undertake, your should carefully consider:\n",
    "- how you describe your experimental method, such that your work is reproducible\n",
    "- how you will control the variables within your experiment (dependent/independent)\n",
    "- how you will capture sufficient and meaningful data (rigour)\n",
    "- what metric(s) you will use to evaluate the data (affordances and limitations).  \n",
    "\n",
    "With regard to remote-working and the COVID-19 pandemic, you should plan to ensure your experiment is reproducible - both rigorous and reliable in its method - such that your group members can independently reproduce the work to then collate your data and draw insight.\n",
    "\n",
    "**This list will continue to be updated with new ideas - check back again later!**"
   ]
  },
  {
   "cell_type": "markdown",
   "metadata": {},
   "source": [
    "<br><br><br><br>"
   ]
  },
  {
   "cell_type": "markdown",
   "metadata": {},
   "source": [
    "# Key Factors for Return-Home Performance\n",
    "\n",
    "In summary, you should design a focused experiment to evaluate a hypothesis concerning a key factor that effects the ablity for your Romi to return to origin after a period of travel.  This experiment could build upon the line challenge you solved for Assessment 1.\n",
    "\n",
    "This area of investigation has many potential aspects.  We can consider the idea that a robotic system is split across the following domains:\n",
    "- Task: The requirements generally understood and set by human roboticists.\n",
    "- Software: The representation and transformation of knowledge and behaviours.\n",
    "- Hardware: The phyiscal and computational capability afforded by electronics, mechianisms and physical components.\n",
    "- Environment: The task-environment of the robot, which can be structured, unstructured, etc.\n",
    "\n",
    "Accordingly, the following examples (not complete or definitive) might be areas which significantly effect return-home performance.  You may select one to assert and test a focused hypothesis, or pursue your own:\n",
    "\n",
    "- Task: Examples include, lines of varied difficulty, or containing biased features, set as a task requirement determined by a human.  You may wish to characterise the performance, limits and failure modes of a given robotic solution against varied task configurations.\n",
    "- Software: Examples include, various strategies for motion control or behavioural control against line challenges; the key parameters for kinematics that govern error within the kinematic calculations.\n",
    "- Hardware: Examples include, you may remove the rubber from wheels, work with low-voltage batteries, or adjust the location of aspects such as line sensors.  \n",
    "- Environment: Examples include, different environment surfaces (friction, slope,etc), ambient light levels, etc.\n",
    "\n"
   ]
  },
  {
   "cell_type": "markdown",
   "metadata": {},
   "source": [
    "# Characterisation & Improvement of Proximity Detection\n",
    "\n",
    "In summary, you can characterise the performance (e.g. accuracy/precision) of the VL6180X proximity sensor in your kit under ideal circumstances as a control experiment.  You should then explore hypotheses about your characterisation of your sensor toward more challenging environments, compared against the control.  Your experiment design should carefully consider structured environments such that you can make strong arguments for key factors and measures of performance.  You should carefully consider what autonomous behaviours your robot should/could have, and clearly indicate how these effect the performance or confidence of the proximity sensor. \n",
    "\n",
    "Example key factors include:\n",
    "- angle of incidence between sensor and surfaces\n",
    "- reflectivity of surfaces\n",
    "- distances of readings\n",
    "- configuration of the sensor \n",
    "- sampling, filtering and algorithms for sensor processing\n",
    "- behavioural strategies for mapping or characterising an object\n",
    "\n",
    "From your findings, you may wish to demonstrate and communicate the sucess of a behavioural strategy to further improve the performance of the proximity sensor.  \n"
   ]
  },
  {
   "cell_type": "markdown",
   "metadata": {},
   "source": [
    "# Motion Control for Slippery Wheels\n",
    "\n",
    "In summary, it is possible to remove the rubber from the wheels of the Romi, which will effect the error accrued in kinematics on certain surfaces (e.g., glass, hardwood floors).  This investigation hinges on the idea that bare wheels will slip on shiny or smooth floors.  This area of experimentation should characterise the performance of your Romi via error in kinematics with normal wheels, with bare wheels, and then develop a new motion strategy to improve the performance of bare wheels.  Your improvement should be well documented (both hypothesis and implementation), and supported with rigourous and insightful data.\n"
   ]
  },
  {
   "cell_type": "markdown",
   "metadata": {},
   "source": [
    "# Autonomous Optimisation of Motion Parameters\n",
    "\n",
    "In summary, it is possible for the Romi to measure the voltage level of its own batteries.  It is also possible to observe both a drop of voltage and electronic noise when the motors are activated under various loads.  This experiment would look to write an autonomous optimisation algorithm such that the robot can iteratively adjust its own behaviour.  The  motion control parameters could be adjusted toward behaviours which:\n",
    "- reduce electronic noise when the motors are activated, used and deactivated.\n",
    "- minimise voltage drop over time yet sustain useful movement.\n",
    "\n",
    "Your experiment must include a control from which to comparitively demonstrate a clear improvement, or present a clear understanding of why an improvement is not possible.  \n",
    "\n",
    "If autonomous optimisation is not feasible for your group, it would also be sufficient to present an improved solution within the context of battery usage.  It would be necessary to communicate an insightful hypothesis, a well-considered experimental method, and empirical data to support your solution improvement.\n",
    "\n"
   ]
  },
  {
   "cell_type": "markdown",
   "metadata": {},
   "source": [
    "# Ferrous Object Discovery using a Magnetometer\n",
    "\n",
    "Your kit contains a Magnetometer sensor.  These sensors are able to detect the earths magnetic field to provide a sense of orientation.  However, Magnetometers are notoriously noisy sensors, with error induced from local ferrous objects (e.g., table legs).  This experiment works from a general hypothesis that it should be possible to disambiguate induced error from local ferrous objects against prior readings of the earths magnetic field.  Your experiment should refine this hypothesis further, presenting good emperical evidence for how this can be achieved, and within what bounds.  You may wish to demonstrate the performance of this unusual application of a magnetometer by having your Romi able to discover and orientate itself toward a ferrous object."
   ]
  }
 ],
 "metadata": {
  "kernelspec": {
   "display_name": "Python 3",
   "language": "python",
   "name": "python3"
  },
  "language_info": {
   "codemirror_mode": {
    "name": "ipython",
    "version": 3
   },
   "file_extension": ".py",
   "mimetype": "text/x-python",
   "name": "python",
   "nbconvert_exporter": "python",
   "pygments_lexer": "ipython3",
   "version": "3.8.2"
  }
 },
 "nbformat": 4,
 "nbformat_minor": 4
}
